{
 "cells": [
  {
   "cell_type": "code",
   "execution_count": 1,
   "metadata": {},
   "outputs": [
    {
     "name": "stdout",
     "output_type": "stream",
     "text": [
      "Collecting fiftyone\n",
      "  Downloading fiftyone-0.23.7-py3-none-any.whl (7.9 MB)\n",
      "     ---------------------------------------- 7.9/7.9 MB 28.1 MB/s eta 0:00:00\n",
      "Collecting humanize\n",
      "  Downloading humanize-4.9.0-py3-none-any.whl (126 kB)\n",
      "     -------------------------------------- 126.8/126.8 kB 7.3 MB/s eta 0:00:00\n",
      "Collecting pymongo>=3.12\n",
      "  Downloading pymongo-4.6.3-cp310-cp310-win_amd64.whl (472 kB)\n",
      "     ------------------------------------- 472.9/472.9 kB 28.9 MB/s eta 0:00:00\n",
      "Requirement already satisfied: Jinja2>=3 in c:\\users\\michael\\appdata\\local\\programs\\python\\python310\\lib\\site-packages (from fiftyone) (3.1.2)\n",
      "Collecting tabulate\n",
      "  Downloading tabulate-0.9.0-py3-none-any.whl (35 kB)\n",
      "Collecting scikit-learn\n",
      "  Downloading scikit_learn-1.4.1.post1-cp310-cp310-win_amd64.whl (10.6 MB)\n",
      "     --------------------------------------- 10.6/10.6 MB 36.4 MB/s eta 0:00:00\n",
      "Collecting xmltodict\n",
      "  Downloading xmltodict-0.13.0-py2.py3-none-any.whl (10.0 kB)\n",
      "Collecting retrying\n",
      "  Downloading retrying-1.3.4-py3-none-any.whl (11 kB)\n",
      "Collecting sse-starlette<1,>=0.10.3\n",
      "  Downloading sse_starlette-0.10.3-py3-none-any.whl (8.0 kB)\n",
      "Requirement already satisfied: packaging in c:\\users\\michael\\appdata\\roaming\\python\\python310\\site-packages (from fiftyone) (23.2)\n",
      "Collecting hypercorn>=0.13.2\n",
      "  Downloading hypercorn-0.16.0-py3-none-any.whl (59 kB)\n",
      "     ---------------------------------------- 59.9/59.9 kB 3.1 MB/s eta 0:00:00\n",
      "Requirement already satisfied: pytz in c:\\users\\michael\\appdata\\local\\programs\\python\\python310\\lib\\site-packages (from fiftyone) (2024.1)\n",
      "Requirement already satisfied: PyYAML in c:\\users\\michael\\appdata\\local\\programs\\python\\python310\\lib\\site-packages (from fiftyone) (6.0.1)\n",
      "Collecting mongoengine==0.24.2\n",
      "  Downloading mongoengine-0.24.2-py3-none-any.whl (108 kB)\n",
      "     ---------------------------------------- 108.9/108.9 kB ? eta 0:00:00\n",
      "Collecting starlette>=0.24.0\n",
      "  Downloading starlette-0.37.2-py3-none-any.whl (71 kB)\n",
      "     ---------------------------------------- 71.9/71.9 kB ? eta 0:00:00\n",
      "Collecting fiftyone-db<2.0,>=0.4\n",
      "  Downloading fiftyone_db-1.1.2-py3-none-win_amd64.whl (20.1 MB)\n",
      "     --------------------------------------- 20.1/20.1 MB 16.8 MB/s eta 0:00:00\n",
      "Collecting pprintpp\n",
      "  Downloading pprintpp-0.4.0-py2.py3-none-any.whl (16 kB)\n",
      "Collecting cachetools\n",
      "  Downloading cachetools-5.3.3-py3-none-any.whl (9.3 kB)\n",
      "Collecting plotly>=4.14\n",
      "  Downloading plotly-5.20.0-py3-none-any.whl (15.7 MB)\n",
      "     --------------------------------------- 15.7/15.7 MB 34.4 MB/s eta 0:00:00\n",
      "Requirement already satisfied: numpy in c:\\users\\michael\\appdata\\local\\programs\\python\\python310\\lib\\site-packages (from fiftyone) (1.26.4)\n",
      "Collecting universal-analytics-python3<2,>=1.0.1\n",
      "  Downloading universal_analytics_python3-1.1.1-py3-none-any.whl (10 kB)\n",
      "Requirement already satisfied: Pillow>=6.2 in c:\\users\\michael\\appdata\\local\\programs\\python\\python310\\lib\\site-packages (from fiftyone) (10.2.0)\n",
      "Collecting Deprecated\n",
      "  Downloading Deprecated-1.2.14-py2.py3-none-any.whl (9.6 kB)\n",
      "Collecting ftfy\n",
      "  Downloading ftfy-6.2.0-py3-none-any.whl (54 kB)\n",
      "     ---------------------------------------- 54.4/54.4 kB ? eta 0:00:00\n",
      "Collecting motor>=2.5\n",
      "  Downloading motor-3.4.0-py3-none-any.whl (74 kB)\n",
      "     ---------------------------------------- 74.3/74.3 kB ? eta 0:00:00\n",
      "Requirement already satisfied: psutil in c:\\users\\michael\\appdata\\roaming\\python\\python310\\site-packages (from fiftyone) (5.9.8)\n",
      "Collecting kaleido!=0.2.1.post1\n",
      "  Downloading kaleido-0.2.1-py2.py3-none-win_amd64.whl (65.9 MB)\n",
      "     --------------------------------------- 65.9/65.9 MB 23.4 MB/s eta 0:00:00\n",
      "Requirement already satisfied: setuptools in c:\\users\\michael\\appdata\\local\\programs\\python\\python310\\lib\\site-packages (from fiftyone) (63.2.0)\n",
      "Collecting fiftyone-brain<0.17,>=0.16.1\n",
      "  Downloading fiftyone_brain-0.16.1-py3-none-any.whl (89 kB)\n",
      "     ---------------------------------------- 89.6/89.6 kB ? eta 0:00:00\n",
      "Collecting scikit-image\n",
      "  Downloading scikit_image-0.22.0-cp310-cp310-win_amd64.whl (24.5 MB)\n",
      "     --------------------------------------- 24.5/24.5 MB 32.7 MB/s eta 0:00:00\n",
      "Collecting sseclient-py<2,>=1.7.2\n",
      "  Downloading sseclient_py-1.8.0-py2.py3-none-any.whl (8.8 kB)\n",
      "Collecting beautifulsoup4\n",
      "  Downloading beautifulsoup4-4.12.3-py3-none-any.whl (147 kB)\n",
      "     -------------------------------------- 147.9/147.9 kB 9.2 MB/s eta 0:00:00\n",
      "Collecting aiofiles\n",
      "  Using cached aiofiles-23.2.1-py3-none-any.whl (15 kB)\n",
      "Collecting voxel51-eta<0.13,>=0.12.6\n",
      "  Downloading voxel51_eta-0.12.6-py2.py3-none-any.whl (942 kB)\n",
      "     ------------------------------------- 942.9/942.9 kB 29.1 MB/s eta 0:00:00\n",
      "Requirement already satisfied: matplotlib in c:\\users\\michael\\appdata\\local\\programs\\python\\python310\\lib\\site-packages (from fiftyone) (3.8.3)\n",
      "Collecting dacite<1.8.0,>=1.6.0\n",
      "  Downloading dacite-1.7.0-py3-none-any.whl (12 kB)\n",
      "Collecting opencv-python-headless\n",
      "  Downloading opencv_python_headless-4.9.0.80-cp37-abi3-win_amd64.whl (38.5 MB)\n",
      "     --------------------------------------- 38.5/38.5 MB 29.8 MB/s eta 0:00:00\n",
      "Collecting strawberry-graphql==0.138.1\n",
      "  Downloading strawberry_graphql-0.138.1-py3-none-any.whl (192 kB)\n",
      "     ---------------------------------------- 192.5/192.5 kB ? eta 0:00:00\n",
      "Requirement already satisfied: pandas in c:\\users\\michael\\appdata\\local\\programs\\python\\python310\\lib\\site-packages (from fiftyone) (2.2.1)\n",
      "Requirement already satisfied: regex in c:\\users\\michael\\appdata\\local\\programs\\python\\python310\\lib\\site-packages (from fiftyone) (2023.12.25)\n",
      "Collecting argcomplete\n",
      "  Downloading argcomplete-3.2.3-py3-none-any.whl (42 kB)\n",
      "     ---------------------------------------- 42.6/42.6 kB ? eta 0:00:00\n",
      "Collecting boto3\n",
      "  Downloading boto3-1.34.79-py3-none-any.whl (139 kB)\n",
      "     -------------------------------------- 139.3/139.3 kB 8.1 MB/s eta 0:00:00\n",
      "Requirement already satisfied: python-dateutil<3.0.0,>=2.7.0 in c:\\users\\michael\\appdata\\roaming\\python\\python310\\site-packages (from strawberry-graphql==0.138.1->fiftyone) (2.9.0.post0)\n",
      "Requirement already satisfied: typing_extensions<5.0.0,>=3.7.4 in c:\\users\\michael\\appdata\\local\\programs\\python\\python310\\lib\\site-packages (from strawberry-graphql==0.138.1->fiftyone) (4.8.0)\n",
      "Collecting graphql-core<3.3.0,>=3.2.0\n",
      "  Downloading graphql_core-3.2.3-py3-none-any.whl (202 kB)\n",
      "     ------------------------------------- 202.9/202.9 kB 12.8 MB/s eta 0:00:00\n",
      "Collecting scipy>=1.2.0\n",
      "  Downloading scipy-1.13.0-cp310-cp310-win_amd64.whl (46.2 MB)\n",
      "     --------------------------------------- 46.2/46.2 MB 28.5 MB/s eta 0:00:00\n",
      "Collecting taskgroup\n",
      "  Downloading taskgroup-0.0.0a4-py2.py3-none-any.whl (9.1 kB)\n",
      "Collecting priority\n",
      "  Downloading priority-2.0.0-py3-none-any.whl (8.9 kB)\n",
      "Collecting wsproto>=0.14.0\n",
      "  Downloading wsproto-1.2.0-py3-none-any.whl (24 kB)\n",
      "Collecting h11\n",
      "  Downloading h11-0.14.0-py3-none-any.whl (58 kB)\n",
      "     ---------------------------------------- 58.3/58.3 kB ? eta 0:00:00\n",
      "Collecting h2>=3.1.0\n",
      "  Downloading h2-4.1.0-py3-none-any.whl (57 kB)\n",
      "     ---------------------------------------- 57.5/57.5 kB ? eta 0:00:00\n",
      "Collecting tomli\n",
      "  Using cached tomli-2.0.1-py3-none-any.whl (12 kB)\n",
      "Requirement already satisfied: MarkupSafe>=2.0 in c:\\users\\michael\\appdata\\local\\programs\\python\\python310\\lib\\site-packages (from Jinja2>=3->fiftyone) (2.1.3)\n",
      "Collecting tenacity>=6.2.0\n",
      "  Downloading tenacity-8.2.3-py3-none-any.whl (24 kB)\n",
      "Collecting dnspython<3.0.0,>=1.16.0\n",
      "  Downloading dnspython-2.6.1-py3-none-any.whl (307 kB)\n",
      "     ---------------------------------------- 307.7/307.7 kB ? eta 0:00:00\n",
      "Collecting anyio<5,>=3.4.0\n",
      "  Downloading anyio-4.3.0-py3-none-any.whl (85 kB)\n",
      "     ---------------------------------------- 85.6/85.6 kB ? eta 0:00:00\n",
      "Collecting httpx>=0.10.0\n",
      "  Downloading httpx-0.27.0-py3-none-any.whl (75 kB)\n",
      "     ---------------------------------------- 75.6/75.6 kB ? eta 0:00:00\n",
      "Requirement already satisfied: six in c:\\users\\michael\\appdata\\roaming\\python\\python310\\site-packages (from voxel51-eta<0.13,>=0.12.6->fiftyone) (1.16.0)\n",
      "Collecting glob2\n",
      "  Downloading glob2-0.7.tar.gz (10 kB)\n",
      "  Preparing metadata (setup.py): started\n",
      "  Preparing metadata (setup.py): finished with status 'done'\n",
      "Collecting sortedcontainers\n",
      "  Downloading sortedcontainers-2.4.0-py2.py3-none-any.whl (29 kB)\n",
      "Requirement already satisfied: requests in c:\\users\\michael\\appdata\\local\\programs\\python\\python310\\lib\\site-packages (from voxel51-eta<0.13,>=0.12.6->fiftyone) (2.31.0)\n",
      "Collecting py7zr\n",
      "  Downloading py7zr-0.21.0-py3-none-any.whl (67 kB)\n",
      "     ---------------------------------------- 67.6/67.6 kB ? eta 0:00:00\n",
      "Collecting rarfile\n",
      "  Downloading rarfile-4.2-py3-none-any.whl (29 kB)\n",
      "Collecting dill\n",
      "  Downloading dill-0.3.8-py3-none-any.whl (116 kB)\n",
      "     -------------------------------------- 116.3/116.3 kB 6.6 MB/s eta 0:00:00\n",
      "Collecting jsonlines\n",
      "  Downloading jsonlines-4.0.0-py3-none-any.whl (8.7 kB)\n",
      "Requirement already satisfied: urllib3 in c:\\users\\michael\\appdata\\local\\programs\\python\\python310\\lib\\site-packages (from voxel51-eta<0.13,>=0.12.6->fiftyone) (2.2.1)\n",
      "Collecting future\n",
      "  Downloading future-1.0.0-py3-none-any.whl (491 kB)\n",
      "     ------------------------------------- 491.3/491.3 kB 30.1 MB/s eta 0:00:00\n",
      "Collecting tzlocal\n",
      "  Downloading tzlocal-5.2-py3-none-any.whl (17 kB)\n",
      "Collecting soupsieve>1.2\n",
      "  Using cached soupsieve-2.5-py3-none-any.whl (36 kB)\n",
      "Collecting s3transfer<0.11.0,>=0.10.0\n",
      "  Downloading s3transfer-0.10.1-py3-none-any.whl (82 kB)\n",
      "     ---------------------------------------- 82.2/82.2 kB ? eta 0:00:00\n",
      "Collecting botocore<1.35.0,>=1.34.79\n",
      "  Downloading botocore-1.34.79-py3-none-any.whl (12.1 MB)\n",
      "     --------------------------------------- 12.1/12.1 MB 34.4 MB/s eta 0:00:00\n",
      "Collecting jmespath<2.0.0,>=0.7.1\n",
      "  Downloading jmespath-1.0.1-py3-none-any.whl (20 kB)\n",
      "Collecting wrapt<2,>=1.10\n",
      "  Downloading wrapt-1.16.0-cp310-cp310-win_amd64.whl (37 kB)\n",
      "Requirement already satisfied: wcwidth<0.3.0,>=0.2.12 in c:\\users\\michael\\appdata\\roaming\\python\\python310\\site-packages (from ftfy->fiftyone) (0.2.13)\n",
      "Requirement already satisfied: pyparsing>=2.3.1 in c:\\users\\michael\\appdata\\local\\programs\\python\\python310\\lib\\site-packages (from matplotlib->fiftyone) (3.1.2)\n",
      "Requirement already satisfied: kiwisolver>=1.3.1 in c:\\users\\michael\\appdata\\local\\programs\\python\\python310\\lib\\site-packages (from matplotlib->fiftyone) (1.4.5)\n",
      "Requirement already satisfied: cycler>=0.10 in c:\\users\\michael\\appdata\\local\\programs\\python\\python310\\lib\\site-packages (from matplotlib->fiftyone) (0.12.1)\n",
      "Requirement already satisfied: contourpy>=1.0.1 in c:\\users\\michael\\appdata\\local\\programs\\python\\python310\\lib\\site-packages (from matplotlib->fiftyone) (1.2.0)\n",
      "Requirement already satisfied: fonttools>=4.22.0 in c:\\users\\michael\\appdata\\local\\programs\\python\\python310\\lib\\site-packages (from matplotlib->fiftyone) (4.49.0)\n",
      "Requirement already satisfied: tzdata>=2022.7 in c:\\users\\michael\\appdata\\local\\programs\\python\\python310\\lib\\site-packages (from pandas->fiftyone) (2024.1)\n",
      "Requirement already satisfied: networkx>=2.8 in c:\\users\\michael\\appdata\\local\\programs\\python\\python310\\lib\\site-packages (from scikit-image->fiftyone) (3.2.1)\n",
      "Collecting lazy_loader>=0.3\n",
      "  Downloading lazy_loader-0.4-py3-none-any.whl (12 kB)\n",
      "Collecting imageio>=2.27\n",
      "  Downloading imageio-2.34.0-py3-none-any.whl (313 kB)\n",
      "     ------------------------------------- 313.4/313.4 kB 18.9 MB/s eta 0:00:00\n",
      "Collecting tifffile>=2022.8.12\n",
      "  Downloading tifffile-2024.2.12-py3-none-any.whl (224 kB)\n",
      "     ---------------------------------------- 224.5/224.5 kB ? eta 0:00:00\n",
      "Collecting threadpoolctl>=2.0.0\n",
      "  Downloading threadpoolctl-3.4.0-py3-none-any.whl (17 kB)\n",
      "Collecting joblib>=1.2.0\n",
      "  Using cached joblib-1.3.2-py3-none-any.whl (302 kB)\n",
      "Requirement already satisfied: idna>=2.8 in c:\\users\\michael\\appdata\\local\\programs\\python\\python310\\lib\\site-packages (from anyio<5,>=3.4.0->starlette>=0.24.0->fiftyone) (3.6)\n",
      "Collecting sniffio>=1.1\n",
      "  Downloading sniffio-1.3.1-py3-none-any.whl (10 kB)\n",
      "Requirement already satisfied: exceptiongroup>=1.0.2 in c:\\users\\michael\\appdata\\roaming\\python\\python310\\site-packages (from anyio<5,>=3.4.0->starlette>=0.24.0->fiftyone) (1.2.0)\n",
      "Collecting hyperframe<7,>=6.0\n",
      "  Downloading hyperframe-6.0.1-py3-none-any.whl (12 kB)\n",
      "Collecting hpack<5,>=4.0\n",
      "  Downloading hpack-4.0.0-py3-none-any.whl (32 kB)\n",
      "Requirement already satisfied: certifi in c:\\users\\michael\\appdata\\local\\programs\\python\\python310\\lib\\site-packages (from httpx>=0.10.0->universal-analytics-python3<2,>=1.0.1->fiftyone) (2024.2.2)\n",
      "Collecting httpcore==1.*\n",
      "  Downloading httpcore-1.0.5-py3-none-any.whl (77 kB)\n",
      "     ---------------------------------------- 77.9/77.9 kB ? eta 0:00:00\n",
      "Collecting attrs>=19.2.0\n",
      "  Downloading attrs-23.2.0-py3-none-any.whl (60 kB)\n",
      "     ---------------------------------------- 60.8/60.8 kB 3.4 MB/s eta 0:00:00\n",
      "Collecting pybcj<1.1.0,>=1.0.0\n",
      "  Downloading pybcj-1.0.2-cp310-cp310-win_amd64.whl (24 kB)\n",
      "Collecting pycryptodomex>=3.16.0\n",
      "  Downloading pycryptodomex-3.20.0-cp35-abi3-win_amd64.whl (1.8 MB)\n",
      "     ---------------------------------------- 1.8/1.8 MB 27.8 MB/s eta 0:00:00\n",
      "Collecting multivolumefile>=0.2.3\n",
      "  Downloading multivolumefile-0.2.3-py3-none-any.whl (17 kB)\n",
      "Collecting pyppmd<1.2.0,>=1.1.0\n",
      "  Downloading pyppmd-1.1.0-cp310-cp310-win_amd64.whl (46 kB)\n",
      "     ---------------------------------------- 46.1/46.1 kB ? eta 0:00:00\n",
      "Collecting inflate64<1.1.0,>=1.0.0\n",
      "  Downloading inflate64-1.0.0-cp310-cp310-win_amd64.whl (35 kB)\n",
      "Collecting pyzstd>=0.15.9\n",
      "  Downloading pyzstd-0.15.10-cp310-cp310-win_amd64.whl (245 kB)\n",
      "     ---------------------------------------- 245.4/245.4 kB ? eta 0:00:00\n",
      "Collecting texttable\n",
      "  Downloading texttable-1.7.0-py2.py3-none-any.whl (10 kB)\n",
      "Collecting brotli>=1.1.0\n",
      "  Downloading Brotli-1.1.0-cp310-cp310-win_amd64.whl (357 kB)\n",
      "     ------------------------------------- 357.3/357.3 kB 21.7 MB/s eta 0:00:00\n",
      "Requirement already satisfied: charset-normalizer<4,>=2 in c:\\users\\michael\\appdata\\local\\programs\\python\\python310\\lib\\site-packages (from requests->voxel51-eta<0.13,>=0.12.6->fiftyone) (3.3.2)\n",
      "Using legacy 'setup.py install' for glob2, since package 'wheel' is not installed.\n",
      "Installing collected packages: texttable, sseclient-py, sortedcontainers, pprintpp, kaleido, glob2, brotli, xmltodict, wrapt, tzlocal, tomli, tifffile, threadpoolctl, tenacity, taskgroup, tabulate, soupsieve, sniffio, scipy, retrying, rarfile, pyzstd, pyppmd, pycryptodomex, pybcj, priority, opencv-python-headless, multivolumefile, lazy_loader, joblib, jmespath, inflate64, imageio, hyperframe, humanize, hpack, h11, graphql-core, future, ftfy, fiftyone-db, dnspython, dill, dacite, cachetools, attrs, argcomplete, aiofiles, wsproto, strawberry-graphql, scikit-learn, scikit-image, pymongo, py7zr, plotly, jsonlines, httpcore, h2, Deprecated, botocore, beautifulsoup4, anyio, voxel51-eta, starlette, s3transfer, motor, mongoengine, hypercorn, httpx, fiftyone-brain, universal-analytics-python3, sse-starlette, boto3, fiftyone\n",
      "  Running setup.py install for glob2: started\n",
      "  Running setup.py install for glob2: finished with status 'done'\n",
      "Successfully installed Deprecated-1.2.14 aiofiles-23.2.1 anyio-4.3.0 argcomplete-3.2.3 attrs-23.2.0 beautifulsoup4-4.12.3 boto3-1.34.79 botocore-1.34.79 brotli-1.1.0 cachetools-5.3.3 dacite-1.7.0 dill-0.3.8 dnspython-2.6.1 fiftyone-0.23.7 fiftyone-brain-0.16.1 fiftyone-db-1.1.2 ftfy-6.2.0 future-1.0.0 glob2-0.7 graphql-core-3.2.3 h11-0.14.0 h2-4.1.0 hpack-4.0.0 httpcore-1.0.5 httpx-0.27.0 humanize-4.9.0 hypercorn-0.16.0 hyperframe-6.0.1 imageio-2.34.0 inflate64-1.0.0 jmespath-1.0.1 joblib-1.3.2 jsonlines-4.0.0 kaleido-0.2.1 lazy_loader-0.4 mongoengine-0.24.2 motor-3.4.0 multivolumefile-0.2.3 opencv-python-headless-4.9.0.80 plotly-5.20.0 pprintpp-0.4.0 priority-2.0.0 py7zr-0.21.0 pybcj-1.0.2 pycryptodomex-3.20.0 pymongo-4.6.3 pyppmd-1.1.0 pyzstd-0.15.10 rarfile-4.2 retrying-1.3.4 s3transfer-0.10.1 scikit-image-0.22.0 scikit-learn-1.4.1.post1 scipy-1.13.0 sniffio-1.3.1 sortedcontainers-2.4.0 soupsieve-2.5 sse-starlette-0.10.3 sseclient-py-1.8.0 starlette-0.37.2 strawberry-graphql-0.138.1 tabulate-0.9.0 taskgroup-0.0.0a4 tenacity-8.2.3 texttable-1.7.0 threadpoolctl-3.4.0 tifffile-2024.2.12 tomli-2.0.1 tzlocal-5.2 universal-analytics-python3-1.1.1 voxel51-eta-0.12.6 wrapt-1.16.0 wsproto-1.2.0 xmltodict-0.13.0\n",
      "Note: you may need to restart the kernel to use updated packages.\n"
     ]
    },
    {
     "name": "stderr",
     "output_type": "stream",
     "text": [
      "\n",
      "[notice] A new release of pip available: 22.2.1 -> 24.0\n",
      "[notice] To update, run: python.exe -m pip install --upgrade pip\n"
     ]
    }
   ],
   "source": [
    "pip install fiftyone"
   ]
  },
  {
   "cell_type": "code",
   "execution_count": 5,
   "metadata": {},
   "outputs": [
    {
     "name": "stdout",
     "output_type": "stream",
     "text": [
      "Collecting bash_kernelNote: you may need to restart the kernel to use updated packages.\n"
     ]
    },
    {
     "name": "stderr",
     "output_type": "stream",
     "text": [
      "\n",
      "[notice] A new release of pip available: 22.2.1 -> 24.0\n",
      "[notice] To update, run: python.exe -m pip install --upgrade pip\n"
     ]
    },
    {
     "name": "stdout",
     "output_type": "stream",
     "text": [
      "\n",
      "  Downloading bash_kernel-0.9.3-py2.py3-none-any.whl (617 kB)\n",
      "     -------------------------------------- 617.3/617.3 kB 9.8 MB/s eta 0:00:00\n",
      "Requirement already satisfied: ipykernel in c:\\users\\michael\\appdata\\roaming\\python\\python310\\site-packages (from bash_kernel) (6.29.3)\n",
      "Collecting pexpect>=4.0\n",
      "  Downloading pexpect-4.9.0-py2.py3-none-any.whl (63 kB)\n",
      "     ---------------------------------------- 63.8/63.8 kB 3.3 MB/s eta 0:00:00\n",
      "Collecting ptyprocess>=0.5\n",
      "  Downloading ptyprocess-0.7.0-py2.py3-none-any.whl (13 kB)\n",
      "Requirement already satisfied: comm>=0.1.1 in c:\\users\\michael\\appdata\\roaming\\python\\python310\\site-packages (from ipykernel->bash_kernel) (0.2.1)\n",
      "Requirement already satisfied: pyzmq>=24 in c:\\users\\michael\\appdata\\roaming\\python\\python310\\site-packages (from ipykernel->bash_kernel) (25.1.2)\n",
      "Requirement already satisfied: jupyter-client>=6.1.12 in c:\\users\\michael\\appdata\\roaming\\python\\python310\\site-packages (from ipykernel->bash_kernel) (8.6.0)\n",
      "Requirement already satisfied: traitlets>=5.4.0 in c:\\users\\michael\\appdata\\roaming\\python\\python310\\site-packages (from ipykernel->bash_kernel) (5.14.1)\n",
      "Requirement already satisfied: debugpy>=1.6.5 in c:\\users\\michael\\appdata\\roaming\\python\\python310\\site-packages (from ipykernel->bash_kernel) (1.8.1)\n",
      "Requirement already satisfied: ipython>=7.23.1 in c:\\users\\michael\\appdata\\roaming\\python\\python310\\site-packages (from ipykernel->bash_kernel) (8.22.2)\n",
      "Requirement already satisfied: nest-asyncio in c:\\users\\michael\\appdata\\roaming\\python\\python310\\site-packages (from ipykernel->bash_kernel) (1.6.0)\n",
      "Requirement already satisfied: matplotlib-inline>=0.1 in c:\\users\\michael\\appdata\\roaming\\python\\python310\\site-packages (from ipykernel->bash_kernel) (0.1.6)\n",
      "Requirement already satisfied: packaging in c:\\users\\michael\\appdata\\roaming\\python\\python310\\site-packages (from ipykernel->bash_kernel) (23.2)\n",
      "Requirement already satisfied: tornado>=6.1 in c:\\users\\michael\\appdata\\roaming\\python\\python310\\site-packages (from ipykernel->bash_kernel) (6.4)\n",
      "Requirement already satisfied: jupyter-core!=5.0.*,>=4.12 in c:\\users\\michael\\appdata\\roaming\\python\\python310\\site-packages (from ipykernel->bash_kernel) (5.7.1)\n",
      "Requirement already satisfied: psutil in c:\\users\\michael\\appdata\\roaming\\python\\python310\\site-packages (from ipykernel->bash_kernel) (5.9.8)\n",
      "Requirement already satisfied: decorator in c:\\users\\michael\\appdata\\roaming\\python\\python310\\site-packages (from ipython>=7.23.1->ipykernel->bash_kernel) (5.1.1)\n",
      "Requirement already satisfied: pygments>=2.4.0 in c:\\users\\michael\\appdata\\roaming\\python\\python310\\site-packages (from ipython>=7.23.1->ipykernel->bash_kernel) (2.17.2)\n",
      "Requirement already satisfied: jedi>=0.16 in c:\\users\\michael\\appdata\\roaming\\python\\python310\\site-packages (from ipython>=7.23.1->ipykernel->bash_kernel) (0.19.1)\n",
      "Requirement already satisfied: exceptiongroup in c:\\users\\michael\\appdata\\roaming\\python\\python310\\site-packages (from ipython>=7.23.1->ipykernel->bash_kernel) (1.2.0)\n",
      "Requirement already satisfied: colorama in c:\\users\\michael\\appdata\\roaming\\python\\python310\\site-packages (from ipython>=7.23.1->ipykernel->bash_kernel) (0.4.6)\n",
      "Requirement already satisfied: stack-data in c:\\users\\michael\\appdata\\roaming\\python\\python310\\site-packages (from ipython>=7.23.1->ipykernel->bash_kernel) (0.6.3)\n",
      "Requirement already satisfied: prompt-toolkit<3.1.0,>=3.0.41 in c:\\users\\michael\\appdata\\roaming\\python\\python310\\site-packages (from ipython>=7.23.1->ipykernel->bash_kernel) (3.0.43)\n",
      "Requirement already satisfied: python-dateutil>=2.8.2 in c:\\users\\michael\\appdata\\roaming\\python\\python310\\site-packages (from jupyter-client>=6.1.12->ipykernel->bash_kernel) (2.9.0.post0)\n",
      "Requirement already satisfied: platformdirs>=2.5 in c:\\users\\michael\\appdata\\roaming\\python\\python310\\site-packages (from jupyter-core!=5.0.*,>=4.12->ipykernel->bash_kernel) (4.2.0)\n",
      "Requirement already satisfied: pywin32>=300 in c:\\users\\michael\\appdata\\roaming\\python\\python310\\site-packages (from jupyter-core!=5.0.*,>=4.12->ipykernel->bash_kernel) (306)\n",
      "Requirement already satisfied: parso<0.9.0,>=0.8.3 in c:\\users\\michael\\appdata\\roaming\\python\\python310\\site-packages (from jedi>=0.16->ipython>=7.23.1->ipykernel->bash_kernel) (0.8.3)\n",
      "Requirement already satisfied: wcwidth in c:\\users\\michael\\appdata\\roaming\\python\\python310\\site-packages (from prompt-toolkit<3.1.0,>=3.0.41->ipython>=7.23.1->ipykernel->bash_kernel) (0.2.13)\n",
      "Requirement already satisfied: six>=1.5 in c:\\users\\michael\\appdata\\roaming\\python\\python310\\site-packages (from python-dateutil>=2.8.2->jupyter-client>=6.1.12->ipykernel->bash_kernel) (1.16.0)\n",
      "Requirement already satisfied: pure-eval in c:\\users\\michael\\appdata\\roaming\\python\\python310\\site-packages (from stack-data->ipython>=7.23.1->ipykernel->bash_kernel) (0.2.2)\n",
      "Requirement already satisfied: executing>=1.2.0 in c:\\users\\michael\\appdata\\roaming\\python\\python310\\site-packages (from stack-data->ipython>=7.23.1->ipykernel->bash_kernel) (2.0.1)\n",
      "Requirement already satisfied: asttokens>=2.1.0 in c:\\users\\michael\\appdata\\roaming\\python\\python310\\site-packages (from stack-data->ipython>=7.23.1->ipykernel->bash_kernel) (2.4.1)\n",
      "Installing collected packages: ptyprocess, pexpect, bash_kernel\n",
      "Successfully installed bash_kernel-0.9.3 pexpect-4.9.0 ptyprocess-0.7.0\n"
     ]
    }
   ],
   "source": [
    "pip install bash_kernel"
   ]
  },
  {
   "cell_type": "code",
   "execution_count": 2,
   "metadata": {},
   "outputs": [
    {
     "name": "stdout",
     "output_type": "stream",
     "text": [
      "Collecting tensorflow\n",
      "  Downloading tensorflow-2.16.1-cp310-cp310-win_amd64.whl (2.1 kB)\n",
      "Collecting tensorflow-datasets\n",
      "  Downloading tensorflow_datasets-4.9.4-py3-none-any.whl (5.1 MB)\n",
      "     ---------------------------------------- 5.1/5.1 MB 16.2 MB/s eta 0:00:00\n",
      "Collecting tensorflow-intel==2.16.1\n",
      "  Downloading tensorflow_intel-2.16.1-cp310-cp310-win_amd64.whl (376.9 MB)\n",
      "     ------------------------------------- 376.9/376.9 MB 10.9 MB/s eta 0:00:00\n",
      "Collecting protobuf!=4.21.0,!=4.21.1,!=4.21.2,!=4.21.3,!=4.21.4,!=4.21.5,<5.0.0dev,>=3.20.3\n",
      "  Downloading protobuf-4.25.3-cp310-abi3-win_amd64.whl (413 kB)\n",
      "     -------------------------------------- 413.4/413.4 kB 4.3 MB/s eta 0:00:00\n",
      "Requirement already satisfied: numpy<2.0.0,>=1.23.5 in c:\\users\\michael\\appdata\\local\\programs\\python\\python310\\lib\\site-packages (from tensorflow-intel==2.16.1->tensorflow) (1.26.4)\n",
      "Collecting libclang>=13.0.0\n",
      "  Downloading libclang-18.1.1-py2.py3-none-win_amd64.whl (26.4 MB)\n",
      "     --------------------------------------- 26.4/26.4 MB 25.1 MB/s eta 0:00:00\n",
      "Requirement already satisfied: typing-extensions>=3.6.6 in c:\\users\\michael\\appdata\\local\\programs\\python\\python310\\lib\\site-packages (from tensorflow-intel==2.16.1->tensorflow) (4.8.0)\n",
      "Collecting tensorboard<2.17,>=2.16\n",
      "  Downloading tensorboard-2.16.2-py3-none-any.whl (5.5 MB)\n",
      "     ---------------------------------------- 5.5/5.5 MB 34.9 MB/s eta 0:00:00\n",
      "Collecting tensorflow-io-gcs-filesystem>=0.23.1\n",
      "  Downloading tensorflow_io_gcs_filesystem-0.31.0-cp310-cp310-win_amd64.whl (1.5 MB)\n",
      "     ---------------------------------------- 1.5/1.5 MB 31.4 MB/s eta 0:00:00\n",
      "Collecting opt-einsum>=2.3.2\n",
      "  Downloading opt_einsum-3.3.0-py3-none-any.whl (65 kB)\n",
      "     ---------------------------------------- 65.5/65.5 kB 3.7 MB/s eta 0:00:00\n",
      "Collecting gast!=0.5.0,!=0.5.1,!=0.5.2,>=0.2.1\n",
      "  Downloading gast-0.5.4-py3-none-any.whl (19 kB)\n",
      "Requirement already satisfied: packaging in c:\\users\\michael\\appdata\\roaming\\python\\python310\\site-packages (from tensorflow-intel==2.16.1->tensorflow) (23.2)\n",
      "Collecting flatbuffers>=23.5.26\n",
      "  Downloading flatbuffers-24.3.25-py2.py3-none-any.whl (26 kB)\n",
      "Requirement already satisfied: setuptools in c:\\users\\michael\\appdata\\local\\programs\\python\\python310\\lib\\site-packages (from tensorflow-intel==2.16.1->tensorflow) (63.2.0)\n",
      "Collecting ml-dtypes~=0.3.1\n",
      "  Downloading ml_dtypes-0.3.2-cp310-cp310-win_amd64.whl (127 kB)\n",
      "     -------------------------------------- 127.8/127.8 kB 7.3 MB/s eta 0:00:00\n",
      "Collecting termcolor>=1.1.0\n",
      "  Downloading termcolor-2.4.0-py3-none-any.whl (7.7 kB)\n",
      "Collecting absl-py>=1.0.0\n",
      "  Downloading absl_py-2.1.0-py3-none-any.whl (133 kB)\n",
      "     ---------------------------------------- 133.7/133.7 kB ? eta 0:00:00\n",
      "Collecting google-pasta>=0.1.1\n",
      "  Downloading google_pasta-0.2.0-py3-none-any.whl (57 kB)\n",
      "     ---------------------------------------- 57.5/57.5 kB ? eta 0:00:00\n",
      "Requirement already satisfied: wrapt>=1.11.0 in c:\\users\\michael\\appdata\\local\\programs\\python\\python310\\lib\\site-packages (from tensorflow-intel==2.16.1->tensorflow) (1.16.0)\n",
      "Collecting astunparse>=1.6.0\n",
      "  Downloading astunparse-1.6.3-py2.py3-none-any.whl (12 kB)\n",
      "Requirement already satisfied: six>=1.12.0 in c:\\users\\michael\\appdata\\roaming\\python\\python310\\site-packages (from tensorflow-intel==2.16.1->tensorflow) (1.16.0)\n",
      "Collecting grpcio<2.0,>=1.24.3\n",
      "  Downloading grpcio-1.62.1-cp310-cp310-win_amd64.whl (3.8 MB)\n",
      "     ---------------------------------------- 3.8/3.8 MB 34.4 MB/s eta 0:00:00\n",
      "Collecting h5py>=3.10.0\n",
      "  Downloading h5py-3.10.0-cp310-cp310-win_amd64.whl (2.7 MB)\n",
      "     ---------------------------------------- 2.7/2.7 MB 34.4 MB/s eta 0:00:00\n",
      "Collecting keras>=3.0.0\n",
      "  Downloading keras-3.1.1-py3-none-any.whl (1.1 MB)\n",
      "     ---------------------------------------- 1.1/1.1 MB 32.8 MB/s eta 0:00:00\n",
      "Requirement already satisfied: requests<3,>=2.21.0 in c:\\users\\michael\\appdata\\local\\programs\\python\\python310\\lib\\site-packages (from tensorflow-intel==2.16.1->tensorflow) (2.31.0)\n",
      "Collecting toml\n",
      "  Using cached toml-0.10.2-py2.py3-none-any.whl (16 kB)\n",
      "Collecting etils[enp,epath,etree]>=0.9.0\n",
      "  Downloading etils-1.7.0-py3-none-any.whl (152 kB)\n",
      "     ---------------------------------------- 152.4/152.4 kB ? eta 0:00:00\n",
      "Collecting tensorflow-metadata\n",
      "  Downloading tensorflow_metadata-1.14.0-py3-none-any.whl (28 kB)\n",
      "Collecting dm-tree\n",
      "  Downloading dm_tree-0.1.8-cp310-cp310-win_amd64.whl (101 kB)\n",
      "     ---------------------------------------- 101.3/101.3 kB ? eta 0:00:00\n",
      "Collecting promise\n",
      "  Downloading promise-2.3.tar.gz (19 kB)\n",
      "  Preparing metadata (setup.py): started\n",
      "  Preparing metadata (setup.py): finished with status 'done'\n",
      "Requirement already satisfied: psutil in c:\\users\\michael\\appdata\\roaming\\python\\python310\\site-packages (from tensorflow-datasets) (5.9.8)\n",
      "Collecting click\n",
      "  Using cached click-8.1.7-py3-none-any.whl (97 kB)\n",
      "Requirement already satisfied: tqdm in c:\\users\\michael\\appdata\\local\\programs\\python\\python310\\lib\\site-packages (from tensorflow-datasets) (4.66.2)\n",
      "Requirement already satisfied: fsspec in c:\\users\\michael\\appdata\\local\\programs\\python\\python310\\lib\\site-packages (from etils[enp,epath,etree]>=0.9.0->tensorflow-datasets) (2024.3.1)\n",
      "Collecting importlib_resources\n",
      "  Downloading importlib_resources-6.4.0-py3-none-any.whl (38 kB)\n",
      "Collecting zipp\n",
      "  Downloading zipp-3.18.1-py3-none-any.whl (8.2 kB)\n",
      "Requirement already satisfied: charset-normalizer<4,>=2 in c:\\users\\michael\\appdata\\local\\programs\\python\\python310\\lib\\site-packages (from requests<3,>=2.21.0->tensorflow-intel==2.16.1->tensorflow) (3.3.2)\n",
      "Requirement already satisfied: idna<4,>=2.5 in c:\\users\\michael\\appdata\\local\\programs\\python\\python310\\lib\\site-packages (from requests<3,>=2.21.0->tensorflow-intel==2.16.1->tensorflow) (3.6)\n",
      "Requirement already satisfied: urllib3<3,>=1.21.1 in c:\\users\\michael\\appdata\\local\\programs\\python\\python310\\lib\\site-packages (from requests<3,>=2.21.0->tensorflow-intel==2.16.1->tensorflow) (2.2.1)\n",
      "Requirement already satisfied: certifi>=2017.4.17 in c:\\users\\michael\\appdata\\local\\programs\\python\\python310\\lib\\site-packages (from requests<3,>=2.21.0->tensorflow-intel==2.16.1->tensorflow) (2024.2.2)\n",
      "Requirement already satisfied: colorama in c:\\users\\michael\\appdata\\roaming\\python\\python310\\site-packages (from click->tensorflow-datasets) (0.4.6)\n",
      "Collecting protobuf!=4.21.0,!=4.21.1,!=4.21.2,!=4.21.3,!=4.21.4,!=4.21.5,<5.0.0dev,>=3.20.3\n",
      "  Downloading protobuf-3.20.3-cp310-cp310-win_amd64.whl (904 kB)\n",
      "     ------------------------------------- 904.0/904.0 kB 55.9 MB/s eta 0:00:00\n",
      "Collecting googleapis-common-protos<2,>=1.52.0\n",
      "  Downloading googleapis_common_protos-1.63.0-py2.py3-none-any.whl (229 kB)\n",
      "     ---------------------------------------- 229.1/229.1 kB ? eta 0:00:00\n",
      "Collecting absl-py>=1.0.0\n",
      "  Using cached absl_py-1.4.0-py3-none-any.whl (126 kB)\n",
      "Collecting wheel<1.0,>=0.23.0\n",
      "  Downloading wheel-0.43.0-py3-none-any.whl (65 kB)\n",
      "     ---------------------------------------- 65.8/65.8 kB 3.7 MB/s eta 0:00:00\n",
      "Collecting namex\n",
      "  Downloading namex-0.0.7-py3-none-any.whl (5.8 kB)\n",
      "Collecting optree\n",
      "  Downloading optree-0.11.0-cp310-cp310-win_amd64.whl (243 kB)\n",
      "     ---------------------------------------- 243.8/243.8 kB ? eta 0:00:00\n",
      "Collecting rich\n",
      "  Downloading rich-13.7.1-py3-none-any.whl (240 kB)\n",
      "     ------------------------------------- 240.7/240.7 kB 15.4 MB/s eta 0:00:00\n",
      "Collecting markdown>=2.6.8\n",
      "  Downloading Markdown-3.6-py3-none-any.whl (105 kB)\n",
      "     -------------------------------------- 105.4/105.4 kB 5.9 MB/s eta 0:00:00\n",
      "Collecting tensorboard-data-server<0.8.0,>=0.7.0\n",
      "  Downloading tensorboard_data_server-0.7.2-py3-none-any.whl (2.4 kB)\n",
      "Collecting werkzeug>=1.0.1\n",
      "  Downloading werkzeug-3.0.2-py3-none-any.whl (226 kB)\n",
      "     ---------------------------------------- 226.8/226.8 kB ? eta 0:00:00\n",
      "Requirement already satisfied: MarkupSafe>=2.1.1 in c:\\users\\michael\\appdata\\local\\programs\\python\\python310\\lib\\site-packages (from werkzeug>=1.0.1->tensorboard<2.17,>=2.16->tensorflow-intel==2.16.1->tensorflow) (2.1.3)\n",
      "Requirement already satisfied: pygments<3.0.0,>=2.13.0 in c:\\users\\michael\\appdata\\roaming\\python\\python310\\site-packages (from rich->keras>=3.0.0->tensorflow-intel==2.16.1->tensorflow) (2.17.2)\n",
      "Collecting markdown-it-py>=2.2.0\n",
      "  Using cached markdown_it_py-3.0.0-py3-none-any.whl (87 kB)\n",
      "Collecting mdurl~=0.1\n",
      "  Using cached mdurl-0.1.2-py3-none-any.whl (10.0 kB)\n",
      "Using legacy 'setup.py install' for promise, since package 'wheel' is not installed.\n",
      "Installing collected packages: namex, libclang, flatbuffers, dm-tree, zipp, wheel, werkzeug, toml, termcolor, tensorflow-io-gcs-filesystem, tensorboard-data-server, protobuf, promise, optree, opt-einsum, ml-dtypes, mdurl, markdown, importlib_resources, h5py, grpcio, google-pasta, gast, etils, click, absl-py, tensorboard, markdown-it-py, googleapis-common-protos, astunparse, tensorflow-metadata, rich, keras, tensorflow-intel, tensorflow-datasets, tensorflow\n",
      "  Running setup.py install for promise: started\n",
      "  Running setup.py install for promise: finished with status 'done'\n",
      "Successfully installed absl-py-1.4.0 astunparse-1.6.3 click-8.1.7 dm-tree-0.1.8 etils-1.7.0 flatbuffers-24.3.25 gast-0.5.4 google-pasta-0.2.0 googleapis-common-protos-1.63.0 grpcio-1.62.1 h5py-3.10.0 importlib_resources-6.4.0 keras-3.1.1 libclang-18.1.1 markdown-3.6 markdown-it-py-3.0.0 mdurl-0.1.2 ml-dtypes-0.3.2 namex-0.0.7 opt-einsum-3.3.0 optree-0.11.0 promise-2.3 protobuf-3.20.3 rich-13.7.1 tensorboard-2.16.2 tensorboard-data-server-0.7.2 tensorflow-2.16.1 tensorflow-datasets-4.9.4 tensorflow-intel-2.16.1 tensorflow-io-gcs-filesystem-0.31.0 tensorflow-metadata-1.14.0 termcolor-2.4.0 toml-0.10.2 werkzeug-3.0.2 wheel-0.43.0 zipp-3.18.1\n",
      "Note: you may need to restart the kernel to use updated packages.\n"
     ]
    },
    {
     "name": "stderr",
     "output_type": "stream",
     "text": [
      "\n",
      "[notice] A new release of pip available: 22.2.1 -> 24.0\n",
      "[notice] To update, run: python.exe -m pip install --upgrade pip\n"
     ]
    }
   ],
   "source": [
    "pip install tensorflow tensorflow-datasets"
   ]
  },
  {
   "cell_type": "code",
   "execution_count": 4,
   "metadata": {},
   "outputs": [
    {
     "name": "stdout",
     "output_type": "stream",
     "text": [
      "\u001b[1mDownloading and preparing dataset Unknown size (download: Unknown size, generated: Unknown size, total: Unknown size) to C:\\Users\\Michael\\tensorflow_datasets\\cifar10\\3.0.2...\u001b[0m\n"
     ]
    },
    {
     "name": "stderr",
     "output_type": "stream",
     "text": [
      "Dl Completed...: 0 url [00:00, ? url/s]\n",
      "Dl Completed...:   0%|          | 0/1 [00:00<?, ? url/s]\n",
      "Dl Completed...:   0%|          | 0/1 [00:00<?, ? url/s]\n",
      "Dl Completed...:   0%|          | 0/1 [00:01<?, ? url/s]\n",
      "Dl Completed...:   0%|          | 0/1 [00:01<?, ? url/s]\n",
      "Dl Completed...:   0%|          | 0/1 [00:01<?, ? url/s]\n",
      "Dl Completed...:   0%|          | 0/1 [00:01<?, ? url/s]\n",
      "Dl Completed...:   0%|          | 0/1 [00:01<?, ? url/s]\n",
      "Dl Completed...:   0%|          | 0/1 [00:01<?, ? url/s]\n",
      "Dl Completed...:   0%|          | 0/1 [00:01<?, ? url/s]\n",
      "Dl Completed...:   0%|          | 0/1 [00:01<?, ? url/s]\n",
      "Dl Completed...:   0%|          | 0/1 [00:01<?, ? url/s]\n",
      "Dl Completed...:   0%|          | 0/1 [00:01<?, ? url/s]\n",
      "Dl Completed...:   0%|          | 0/1 [00:01<?, ? url/s]\n",
      "Dl Completed...:   0%|          | 0/1 [00:01<?, ? url/s]\n",
      "Dl Completed...:   0%|          | 0/1 [00:01<?, ? url/s]\n",
      "Dl Completed...:   0%|          | 0/1 [00:01<?, ? url/s]\n",
      "Dl Completed...:   0%|          | 0/1 [00:01<?, ? url/s]\n",
      "Dl Completed...:   0%|          | 0/1 [00:01<?, ? url/s]\n",
      "Dl Completed...:   0%|          | 0/1 [00:01<?, ? url/s]\n",
      "Dl Completed...:   0%|          | 0/1 [00:01<?, ? url/s]\n",
      "Dl Completed...:   0%|          | 0/1 [00:01<?, ? url/s]\n",
      "Dl Completed...:   0%|          | 0/1 [00:01<?, ? url/s]\n",
      "Dl Completed...:   0%|          | 0/1 [00:01<?, ? url/s]\n",
      "Dl Completed...:   0%|          | 0/1 [00:02<?, ? url/s]\n",
      "Dl Completed...:   0%|          | 0/1 [00:02<?, ? url/s]\n",
      "Dl Completed...:   0%|          | 0/1 [00:02<?, ? url/s]\n",
      "Dl Completed...:   0%|          | 0/1 [00:02<?, ? url/s]\n",
      "Dl Completed...:   0%|          | 0/1 [00:02<?, ? url/s]\n",
      "Dl Completed...:   0%|          | 0/1 [00:02<?, ? url/s]\n",
      "Dl Completed...:   0%|          | 0/1 [00:02<?, ? url/s]\n",
      "Dl Completed...:   0%|          | 0/1 [00:02<?, ? url/s]\n",
      "Dl Completed...:   0%|          | 0/1 [00:02<?, ? url/s]\n",
      "Dl Completed...:   0%|          | 0/1 [00:02<?, ? url/s]\n",
      "Dl Completed...:   0%|          | 0/1 [00:02<?, ? url/s]\n",
      "Dl Completed...:   0%|          | 0/1 [00:02<?, ? url/s]\n",
      "Dl Completed...:   0%|          | 0/1 [00:02<?, ? url/s]\n",
      "Dl Completed...:   0%|          | 0/1 [00:02<?, ? url/s]\n",
      "Dl Completed...:   0%|          | 0/1 [00:02<?, ? url/s]\n",
      "Dl Completed...:   0%|          | 0/1 [00:02<?, ? url/s]\n",
      "Dl Completed...:   0%|          | 0/1 [00:02<?, ? url/s]\n",
      "Dl Completed...:   0%|          | 0/1 [00:02<?, ? url/s]\n",
      "Dl Completed...:   0%|          | 0/1 [00:02<?, ? url/s]\n",
      "Dl Completed...:   0%|          | 0/1 [00:02<?, ? url/s]\n",
      "Dl Completed...:   0%|          | 0/1 [00:02<?, ? url/s]\n",
      "Dl Completed...:   0%|          | 0/1 [00:02<?, ? url/s]\n",
      "Dl Completed...:   0%|          | 0/1 [00:02<?, ? url/s]\n",
      "Dl Completed...:   0%|          | 0/1 [00:02<?, ? url/s]\n",
      "Dl Completed...:   0%|          | 0/1 [00:02<?, ? url/s]\n",
      "Dl Completed...:   0%|          | 0/1 [00:03<?, ? url/s]\n",
      "Dl Completed...:   0%|          | 0/1 [00:03<?, ? url/s]\n",
      "Dl Completed...:   0%|          | 0/1 [00:03<?, ? url/s]\n",
      "Dl Completed...:   0%|          | 0/1 [00:03<?, ? url/s]\n",
      "Dl Completed...:   0%|          | 0/1 [00:03<?, ? url/s]\n",
      "Dl Completed...:   0%|          | 0/1 [00:03<?, ? url/s]\n",
      "Dl Completed...:   0%|          | 0/1 [00:03<?, ? url/s]\n",
      "Dl Completed...:   0%|          | 0/1 [00:03<?, ? url/s]\n",
      "Dl Completed...:   0%|          | 0/1 [00:03<?, ? url/s]\n",
      "Dl Completed...:   0%|          | 0/1 [00:03<?, ? url/s]\n",
      "Dl Completed...:   0%|          | 0/1 [00:03<?, ? url/s]\n",
      "Dl Completed...:   0%|          | 0/1 [00:03<?, ? url/s]\n",
      "Dl Completed...:   0%|          | 0/1 [00:03<?, ? url/s]\n",
      "Dl Completed...:   0%|          | 0/1 [00:03<?, ? url/s]\n",
      "Dl Completed...:   0%|          | 0/1 [00:03<?, ? url/s]\n",
      "Dl Completed...:   0%|          | 0/1 [00:03<?, ? url/s]\n",
      "Dl Completed...:   0%|          | 0/1 [00:03<?, ? url/s]\n",
      "Dl Completed...:   0%|          | 0/1 [00:03<?, ? url/s]\n",
      "Dl Completed...:   0%|          | 0/1 [00:03<?, ? url/s]\n",
      "Dl Completed...:   0%|          | 0/1 [00:03<?, ? url/s]\n",
      "Dl Completed...:   0%|          | 0/1 [00:03<?, ? url/s]\n",
      "Dl Completed...:   0%|          | 0/1 [00:03<?, ? url/s]\n",
      "Dl Completed...:   0%|          | 0/1 [00:03<?, ? url/s]\n",
      "Dl Completed...:   0%|          | 0/1 [00:03<?, ? url/s]\n",
      "Dl Completed...:   0%|          | 0/1 [00:03<?, ? url/s]\n",
      "Dl Completed...:   0%|          | 0/1 [00:03<?, ? url/s]\n",
      "Dl Completed...:   0%|          | 0/1 [00:03<?, ? url/s]\n",
      "Dl Completed...:   0%|          | 0/1 [00:04<?, ? url/s]\n",
      "Dl Completed...:   0%|          | 0/1 [00:04<?, ? url/s]\n",
      "Dl Completed...:   0%|          | 0/1 [00:04<?, ? url/s]\n",
      "Dl Completed...:   0%|          | 0/1 [00:04<?, ? url/s]\n",
      "Dl Completed...:   0%|          | 0/1 [00:04<?, ? url/s]\n",
      "Dl Completed...:   0%|          | 0/1 [00:04<?, ? url/s]\n",
      "Dl Completed...:   0%|          | 0/1 [00:04<?, ? url/s]\n",
      "Dl Completed...:   0%|          | 0/1 [00:04<?, ? url/s]\n",
      "Dl Completed...:   0%|          | 0/1 [00:04<?, ? url/s]\n",
      "Dl Completed...:   0%|          | 0/1 [00:04<?, ? url/s]\n",
      "Dl Completed...:   0%|          | 0/1 [00:04<?, ? url/s]\n",
      "Dl Completed...:   0%|          | 0/1 [00:04<?, ? url/s]\n",
      "Dl Completed...:   0%|          | 0/1 [00:04<?, ? url/s]\n",
      "Dl Completed...:   0%|          | 0/1 [00:04<?, ? url/s]\n",
      "Dl Completed...:   0%|          | 0/1 [00:04<?, ? url/s]\n",
      "Dl Completed...:   0%|          | 0/1 [00:04<?, ? url/s]\n",
      "Dl Completed...:   0%|          | 0/1 [00:04<?, ? url/s]\n",
      "Dl Completed...:   0%|          | 0/1 [00:04<?, ? url/s]\n",
      "Dl Completed...:   0%|          | 0/1 [00:04<?, ? url/s]\n",
      "Dl Completed...:   0%|          | 0/1 [00:04<?, ? url/s]\n",
      "Dl Completed...:   0%|          | 0/1 [00:04<?, ? url/s]\n",
      "Dl Completed...:   0%|          | 0/1 [00:04<?, ? url/s]\n",
      "Dl Completed...:   0%|          | 0/1 [00:04<?, ? url/s]\n",
      "Dl Completed...:   0%|          | 0/1 [00:04<?, ? url/s]\n",
      "Dl Completed...:   0%|          | 0/1 [00:05<?, ? url/s]\n",
      "Dl Completed...:   0%|          | 0/1 [00:05<?, ? url/s]\n",
      "Dl Completed...:   0%|          | 0/1 [00:05<?, ? url/s]\n",
      "Dl Completed...:   0%|          | 0/1 [00:05<?, ? url/s]\n",
      "Dl Completed...:   0%|          | 0/1 [00:05<?, ? url/s]\n",
      "Dl Completed...:   0%|          | 0/1 [00:05<?, ? url/s]\n",
      "Dl Completed...:   0%|          | 0/1 [00:05<?, ? url/s]\n",
      "Dl Completed...:   0%|          | 0/1 [00:05<?, ? url/s]\n",
      "Dl Completed...:   0%|          | 0/1 [00:05<?, ? url/s]\n",
      "Dl Completed...:   0%|          | 0/1 [00:05<?, ? url/s]\n",
      "Dl Completed...:   0%|          | 0/1 [00:05<?, ? url/s]\n",
      "Dl Completed...:   0%|          | 0/1 [00:05<?, ? url/s]\n",
      "Dl Completed...:   0%|          | 0/1 [00:05<?, ? url/s]\n",
      "Dl Completed...:   0%|          | 0/1 [00:05<?, ? url/s]\n",
      "Dl Completed...:   0%|          | 0/1 [00:05<?, ? url/s]\n",
      "Dl Completed...:   0%|          | 0/1 [00:05<?, ? url/s]\n",
      "Dl Completed...:   0%|          | 0/1 [00:05<?, ? url/s]\n",
      "Dl Completed...:   0%|          | 0/1 [00:05<?, ? url/s]\n",
      "Dl Completed...:   0%|          | 0/1 [00:05<?, ? url/s]\n",
      "Dl Completed...:   0%|          | 0/1 [00:05<?, ? url/s]\n",
      "Dl Completed...:   0%|          | 0/1 [00:05<?, ? url/s]\n",
      "Dl Completed...:   0%|          | 0/1 [00:05<?, ? url/s]\n",
      "Dl Completed...:   0%|          | 0/1 [00:05<?, ? url/s]\n",
      "Dl Completed...:   0%|          | 0/1 [00:05<?, ? url/s]\n",
      "Dl Completed...:   0%|          | 0/1 [00:05<?, ? url/s]\n",
      "Dl Completed...:   0%|          | 0/1 [00:05<?, ? url/s]\n",
      "Dl Completed...:   0%|          | 0/1 [00:06<?, ? url/s]\n",
      "Dl Completed...:   0%|          | 0/1 [00:06<?, ? url/s]\n",
      "Dl Completed...:   0%|          | 0/1 [00:06<?, ? url/s]\n",
      "Dl Completed...:   0%|          | 0/1 [00:06<?, ? url/s]\n",
      "Dl Completed...:   0%|          | 0/1 [00:06<?, ? url/s]\n",
      "Dl Completed...:   0%|          | 0/1 [00:06<?, ? url/s]\n",
      "Dl Completed...:   0%|          | 0/1 [00:06<?, ? url/s]\n",
      "Dl Completed...:   0%|          | 0/1 [00:06<?, ? url/s]\n",
      "Dl Completed...:   0%|          | 0/1 [00:06<?, ? url/s]\n",
      "Dl Completed...:   0%|          | 0/1 [00:06<?, ? url/s]\n",
      "Dl Completed...:   0%|          | 0/1 [00:06<?, ? url/s]\n",
      "Dl Completed...:   0%|          | 0/1 [00:06<?, ? url/s]\n",
      "Dl Completed...:   0%|          | 0/1 [00:06<?, ? url/s]\n",
      "Dl Completed...:   0%|          | 0/1 [00:06<?, ? url/s]\n",
      "Dl Completed...:   0%|          | 0/1 [00:06<?, ? url/s]\n",
      "Dl Completed...:   0%|          | 0/1 [00:06<?, ? url/s]\n",
      "Dl Completed...:   0%|          | 0/1 [00:06<?, ? url/s]\n",
      "Dl Completed...:   0%|          | 0/1 [00:06<?, ? url/s]\n",
      "Dl Completed...:   0%|          | 0/1 [00:06<?, ? url/s]\n",
      "Dl Completed...:   0%|          | 0/1 [00:06<?, ? url/s]\n",
      "Dl Completed...:   0%|          | 0/1 [00:06<?, ? url/s]\n",
      "Dl Completed...:   0%|          | 0/1 [00:06<?, ? url/s]\n",
      "Dl Completed...:   0%|          | 0/1 [00:06<?, ? url/s]\n",
      "Dl Completed...:   0%|          | 0/1 [00:06<?, ? url/s]\n",
      "Dl Completed...:   0%|          | 0/1 [00:06<?, ? url/s]\n",
      "Dl Completed...:   0%|          | 0/1 [00:06<?, ? url/s]\n",
      "Dl Completed...:   0%|          | 0/1 [00:07<?, ? url/s]\n",
      "Dl Completed...:   0%|          | 0/1 [00:07<?, ? url/s]\n",
      "Dl Completed...:   0%|          | 0/1 [00:07<?, ? url/s]\n",
      "Dl Completed...:   0%|          | 0/1 [00:07<?, ? url/s]\n",
      "Dl Completed...:   0%|          | 0/1 [00:07<?, ? url/s]\n",
      "Dl Completed...:   0%|          | 0/1 [00:07<?, ? url/s]\n",
      "Dl Completed...:   0%|          | 0/1 [00:07<?, ? url/s]\n",
      "Dl Completed...:   0%|          | 0/1 [00:07<?, ? url/s]\n",
      "Dl Completed...:   0%|          | 0/1 [00:07<?, ? url/s]\n",
      "Dl Completed...:   0%|          | 0/1 [00:07<?, ? url/s]\n",
      "Dl Completed...:   0%|          | 0/1 [00:07<?, ? url/s]\n",
      "Dl Completed...:   0%|          | 0/1 [00:07<?, ? url/s]\n",
      "Dl Completed...:   0%|          | 0/1 [00:07<?, ? url/s]\n",
      "Dl Completed...: 100%|██████████| 1/1 [00:07<00:00,  7.78s/ url]\n",
      "Dl Completed...: 100%|██████████| 1/1 [00:07<00:00,  7.78s/ url]\n",
      "Dl Completed...: 100%|██████████| 1/1 [00:08<00:00,  7.78s/ url]\n",
      "Dl Completed...: 100%|██████████| 1/1 [00:08<00:00,  7.78s/ url]\n",
      "Dl Completed...: 100%|██████████| 1/1 [00:08<00:00,  7.78s/ url]\n",
      "Dl Completed...: 100%|██████████| 1/1 [00:08<00:00,  7.78s/ url]\n",
      "Dl Completed...: 100%|██████████| 1/1 [00:08<00:00,  7.78s/ url]\n",
      "Dl Completed...: 100%|██████████| 1/1 [00:08<00:00,  7.78s/ url]\n",
      "Dl Completed...: 100%|██████████| 1/1 [00:09<00:00,  7.78s/ url]\n",
      "\u001b[A\n",
      "Dl Completed...: 100%|██████████| 1/1 [00:09<00:00,  7.78s/ url]\n",
      "Dl Completed...: 100%|██████████| 1/1 [00:09<00:00,  7.78s/ url]\n",
      "Dl Completed...: 100%|██████████| 1/1 [00:09<00:00,  7.78s/ url]\n",
      "Dl Completed...: 100%|██████████| 1/1 [00:09<00:00,  7.78s/ url]\n",
      "Dl Completed...: 100%|██████████| 1/1 [00:09<00:00,  7.78s/ url]\n",
      "Dl Completed...: 100%|██████████| 1/1 [00:09<00:00,  7.78s/ url]\n",
      "Dl Completed...: 100%|██████████| 1/1 [00:09<00:00,  7.78s/ url]\n",
      "Dl Completed...: 100%|██████████| 1/1 [00:09<00:00,  7.78s/ url]\n",
      "Extraction completed...: 100%|██████████| 8/8 [00:09<00:00,  1.14s/ file]\n",
      "Dl Size...: 100%|██████████| 162/162 [00:09<00:00, 17.81 MiB/s]\n",
      "Dl Completed...: 100%|██████████| 1/1 [00:09<00:00,  9.10s/ url]\n",
      "                                                                        \r"
     ]
    },
    {
     "name": "stdout",
     "output_type": "stream",
     "text": [
      "\u001b[1mDataset cifar10 downloaded and prepared to C:\\Users\\Michael\\tensorflow_datasets\\cifar10\\3.0.2. Subsequent calls will reuse this data.\u001b[0m\n"
     ]
    }
   ],
   "source": [
    "import tensorflow as tf\n",
    "import tensorflow_datasets as tfds\n",
    "\n",
    "ds = tfds.load(\"cifar10\", split=\"test\", shuffle_files=True)"
   ]
  },
  {
   "cell_type": "code",
   "execution_count": 8,
   "metadata": {},
   "outputs": [],
   "source": [
    "import fiftyone as fo\n",
    "import fiftyone.zoo as foz\n",
    "from fiftyone import ViewField as F"
   ]
  },
  {
   "cell_type": "code",
   "execution_count": 9,
   "metadata": {},
   "outputs": [
    {
     "name": "stdout",
     "output_type": "stream",
     "text": [
      "Downloading split 'validation' to 'C:\\Users\\Michael\\fiftyone\\coco-2017\\validation' if necessary\n"
     ]
    },
    {
     "name": "stderr",
     "output_type": "stream",
     "text": [
      "INFO:fiftyone.zoo.datasets:Downloading split 'validation' to 'C:\\Users\\Michael\\fiftyone\\coco-2017\\validation' if necessary\n"
     ]
    },
    {
     "name": "stdout",
     "output_type": "stream",
     "text": [
      "Downloading annotations to 'C:\\Users\\Michael\\fiftyone\\coco-2017\\tmp-download\\annotations_trainval2017.zip'\n"
     ]
    },
    {
     "name": "stderr",
     "output_type": "stream",
     "text": [
      "INFO:fiftyone.utils.coco:Downloading annotations to 'C:\\Users\\Michael\\fiftyone\\coco-2017\\tmp-download\\annotations_trainval2017.zip'\n"
     ]
    },
    {
     "name": "stdout",
     "output_type": "stream",
     "text": [
      " 100% |██████|    1.9Gb/1.9Gb [12.5s elapsed, 0s remaining, 153.0Mb/s]      \n"
     ]
    },
    {
     "name": "stderr",
     "output_type": "stream",
     "text": [
      "INFO:eta.core.utils: 100% |██████|    1.9Gb/1.9Gb [12.5s elapsed, 0s remaining, 153.0Mb/s]      \n"
     ]
    },
    {
     "name": "stdout",
     "output_type": "stream",
     "text": [
      "Extracting annotations to 'C:\\Users\\Michael\\fiftyone\\coco-2017\\raw\\instances_val2017.json'\n"
     ]
    },
    {
     "name": "stderr",
     "output_type": "stream",
     "text": [
      "INFO:fiftyone.utils.coco:Extracting annotations to 'C:\\Users\\Michael\\fiftyone\\coco-2017\\raw\\instances_val2017.json'\n"
     ]
    },
    {
     "name": "stdout",
     "output_type": "stream",
     "text": [
      "Downloading images to 'C:\\Users\\Michael\\fiftyone\\coco-2017\\tmp-download\\val2017.zip'\n"
     ]
    },
    {
     "name": "stderr",
     "output_type": "stream",
     "text": [
      "INFO:fiftyone.utils.coco:Downloading images to 'C:\\Users\\Michael\\fiftyone\\coco-2017\\tmp-download\\val2017.zip'\n"
     ]
    },
    {
     "name": "stdout",
     "output_type": "stream",
     "text": [
      " 100% |██████|    6.1Gb/6.1Gb [52.0s elapsed, 0s remaining, 158.2Mb/s]      \n"
     ]
    },
    {
     "name": "stderr",
     "output_type": "stream",
     "text": [
      "INFO:eta.core.utils: 100% |██████|    6.1Gb/6.1Gb [52.0s elapsed, 0s remaining, 158.2Mb/s]      \n"
     ]
    },
    {
     "name": "stdout",
     "output_type": "stream",
     "text": [
      "Extracting images to 'C:\\Users\\Michael\\fiftyone\\coco-2017\\validation\\data'\n"
     ]
    },
    {
     "name": "stderr",
     "output_type": "stream",
     "text": [
      "INFO:fiftyone.utils.coco:Extracting images to 'C:\\Users\\Michael\\fiftyone\\coco-2017\\validation\\data'\n"
     ]
    },
    {
     "name": "stdout",
     "output_type": "stream",
     "text": [
      "Writing annotations to 'C:\\Users\\Michael\\fiftyone\\coco-2017\\validation\\labels.json'\n"
     ]
    },
    {
     "name": "stderr",
     "output_type": "stream",
     "text": [
      "INFO:fiftyone.utils.coco:Writing annotations to 'C:\\Users\\Michael\\fiftyone\\coco-2017\\validation\\labels.json'\n"
     ]
    },
    {
     "name": "stdout",
     "output_type": "stream",
     "text": [
      "Dataset info written to 'C:\\Users\\Michael\\fiftyone\\coco-2017\\info.json'\n"
     ]
    },
    {
     "name": "stderr",
     "output_type": "stream",
     "text": [
      "INFO:fiftyone.zoo.datasets:Dataset info written to 'C:\\Users\\Michael\\fiftyone\\coco-2017\\info.json'\n"
     ]
    },
    {
     "name": "stdout",
     "output_type": "stream",
     "text": [
      "Loading 'coco-2017' split 'validation'\n"
     ]
    },
    {
     "name": "stderr",
     "output_type": "stream",
     "text": [
      "INFO:fiftyone.zoo.datasets:Loading 'coco-2017' split 'validation'\n"
     ]
    },
    {
     "name": "stdout",
     "output_type": "stream",
     "text": [
      " 100% |███████████████| 5000/5000 [24.4s elapsed, 0s remaining, 229.8 samples/s]      \n"
     ]
    },
    {
     "name": "stderr",
     "output_type": "stream",
     "text": [
      "INFO:eta.core.utils: 100% |███████████████| 5000/5000 [24.4s elapsed, 0s remaining, 229.8 samples/s]      \n"
     ]
    },
    {
     "name": "stdout",
     "output_type": "stream",
     "text": [
      "Dataset 'coco-2017-validation' created\n"
     ]
    },
    {
     "name": "stderr",
     "output_type": "stream",
     "text": [
      "INFO:fiftyone.zoo.datasets:Dataset 'coco-2017-validation' created\n"
     ]
    }
   ],
   "source": [
    "dataset = foz.load_zoo_dataset(\n",
    "    'coco-2017',\n",
    "    split='validation',\n",
    ")"
   ]
  },
  {
   "cell_type": "code",
   "execution_count": 10,
   "metadata": {},
   "outputs": [],
   "source": [
    "coco_classes = [c for c in dataset.default_classes if not c.isnumeric()]"
   ]
  },
  {
   "cell_type": "code",
   "execution_count": 11,
   "metadata": {},
   "outputs": [
    {
     "data": {
      "text/plain": [
       "['person',\n",
       " 'bicycle',\n",
       " 'car',\n",
       " 'motorcycle',\n",
       " 'airplane',\n",
       " 'bus',\n",
       " 'train',\n",
       " 'truck',\n",
       " 'boat',\n",
       " 'traffic light',\n",
       " 'fire hydrant',\n",
       " 'stop sign',\n",
       " 'parking meter',\n",
       " 'bench',\n",
       " 'bird',\n",
       " 'cat',\n",
       " 'dog',\n",
       " 'horse',\n",
       " 'sheep',\n",
       " 'cow',\n",
       " 'elephant',\n",
       " 'bear',\n",
       " 'zebra',\n",
       " 'giraffe',\n",
       " 'backpack',\n",
       " 'umbrella',\n",
       " 'handbag',\n",
       " 'tie',\n",
       " 'suitcase',\n",
       " 'frisbee',\n",
       " 'skis',\n",
       " 'snowboard',\n",
       " 'sports ball',\n",
       " 'kite',\n",
       " 'baseball bat',\n",
       " 'baseball glove',\n",
       " 'skateboard',\n",
       " 'surfboard',\n",
       " 'tennis racket',\n",
       " 'bottle',\n",
       " 'wine glass',\n",
       " 'cup',\n",
       " 'fork',\n",
       " 'knife',\n",
       " 'spoon',\n",
       " 'bowl',\n",
       " 'banana',\n",
       " 'apple',\n",
       " 'sandwich',\n",
       " 'orange',\n",
       " 'broccoli',\n",
       " 'carrot',\n",
       " 'hot dog',\n",
       " 'pizza',\n",
       " 'donut',\n",
       " 'cake',\n",
       " 'chair',\n",
       " 'couch',\n",
       " 'potted plant',\n",
       " 'bed',\n",
       " 'dining table',\n",
       " 'toilet',\n",
       " 'tv',\n",
       " 'laptop',\n",
       " 'mouse',\n",
       " 'remote',\n",
       " 'keyboard',\n",
       " 'cell phone',\n",
       " 'microwave',\n",
       " 'oven',\n",
       " 'toaster',\n",
       " 'sink',\n",
       " 'refrigerator',\n",
       " 'book',\n",
       " 'clock',\n",
       " 'vase',\n",
       " 'scissors',\n",
       " 'teddy bear',\n",
       " 'hair drier',\n",
       " 'toothbrush']"
      ]
     },
     "execution_count": 11,
     "metadata": {},
     "output_type": "execute_result"
    }
   ],
   "source": [
    "coco_classes"
   ]
  },
  {
   "cell_type": "code",
   "execution_count": 14,
   "metadata": {},
   "outputs": [
    {
     "data": {
      "text/plain": [
       "<bound method SampleCollection.get_index_information of Name:        coco-2017-validation\n",
       "Media type:  image\n",
       "Num samples: 5000\n",
       "Persistent:  False\n",
       "Tags:        []\n",
       "Sample fields:\n",
       "    id:           fiftyone.core.fields.ObjectIdField\n",
       "    filepath:     fiftyone.core.fields.StringField\n",
       "    tags:         fiftyone.core.fields.ListField(fiftyone.core.fields.StringField)\n",
       "    metadata:     fiftyone.core.fields.EmbeddedDocumentField(fiftyone.core.metadata.ImageMetadata)\n",
       "    ground_truth: fiftyone.core.fields.EmbeddedDocumentField(fiftyone.core.labels.Detections)>"
      ]
     },
     "execution_count": 14,
     "metadata": {},
     "output_type": "execute_result"
    }
   ],
   "source": [
    "dataset"
   ]
  },
  {
   "cell_type": "code",
   "execution_count": 16,
   "metadata": {},
   "outputs": [
    {
     "name": "stdout",
     "output_type": "stream",
     "text": [
      "Collecting label-studio-converter\n",
      "  Downloading label_studio_converter-0.0.58-py3-none-any.whl (46 kB)\n",
      "     -------------------------------------- 47.0/47.0 kB 781.4 kB/s eta 0:00:00\n",
      "Collecting label-studio-tools>=0.0.3\n",
      "  Downloading label_studio_tools-0.0.3-py3-none-any.whl (14 kB)\n",
      "Collecting ujson\n",
      "  Downloading ujson-5.9.0-cp310-cp310-win_amd64.whl (41 kB)\n",
      "     ---------------------------------------- 41.9/41.9 kB ? eta 0:00:00\n",
      "Requirement already satisfied: requests<3,>=2.22.0 in c:\\users\\michael\\appdata\\local\\programs\\python\\python310\\lib\\site-packages (from label-studio-converter) (2.31.0)\n",
      "Requirement already satisfied: Pillow>=10.0.1 in c:\\users\\michael\\appdata\\local\\programs\\python\\python310\\lib\\site-packages (from label-studio-converter) (10.2.0)\n",
      "Requirement already satisfied: pandas>=0.24.0 in c:\\users\\michael\\appdata\\local\\programs\\python\\python310\\lib\\site-packages (from label-studio-converter) (2.2.1)\n",
      "Collecting nltk==3.6.7\n",
      "  Downloading nltk-3.6.7-py3-none-any.whl (1.5 MB)\n",
      "     ---------------------------------------- 1.5/1.5 MB 32.2 MB/s eta 0:00:00\n",
      "Collecting ijson~=3.2.0.post0\n",
      "  Downloading ijson-3.2.3-cp310-cp310-win_amd64.whl (48 kB)\n",
      "     ---------------------------------------- 48.2/48.2 kB ? eta 0:00:00\n",
      "Requirement already satisfied: regex>=2021.8.3 in c:\\users\\michael\\appdata\\local\\programs\\python\\python310\\lib\\site-packages (from nltk==3.6.7->label-studio-converter) (2023.12.25)\n",
      "Requirement already satisfied: tqdm in c:\\users\\michael\\appdata\\local\\programs\\python\\python310\\lib\\site-packages (from nltk==3.6.7->label-studio-converter) (4.66.2)\n",
      "Requirement already satisfied: joblib in c:\\users\\michael\\appdata\\local\\programs\\python\\python310\\lib\\site-packages (from nltk==3.6.7->label-studio-converter) (1.3.2)\n",
      "Requirement already satisfied: click in c:\\users\\michael\\appdata\\local\\programs\\python\\python310\\lib\\site-packages (from nltk==3.6.7->label-studio-converter) (8.1.7)\n",
      "Collecting appdirs>=1.4.3\n",
      "  Using cached appdirs-1.4.4-py2.py3-none-any.whl (9.6 kB)\n",
      "Collecting lxml>=4.2.5\n",
      "  Downloading lxml-5.2.1-cp310-cp310-win_amd64.whl (3.8 MB)\n",
      "     ---------------------------------------- 3.8/3.8 MB 40.8 MB/s eta 0:00:00\n",
      "Requirement already satisfied: numpy<2,>=1.22.4 in c:\\users\\michael\\appdata\\local\\programs\\python\\python310\\lib\\site-packages (from pandas>=0.24.0->label-studio-converter) (1.26.4)\n",
      "Requirement already satisfied: python-dateutil>=2.8.2 in c:\\users\\michael\\appdata\\roaming\\python\\python310\\site-packages (from pandas>=0.24.0->label-studio-converter) (2.9.0.post0)\n",
      "Requirement already satisfied: pytz>=2020.1 in c:\\users\\michael\\appdata\\local\\programs\\python\\python310\\lib\\site-packages (from pandas>=0.24.0->label-studio-converter) (2024.1)\n",
      "Requirement already satisfied: tzdata>=2022.7 in c:\\users\\michael\\appdata\\local\\programs\\python\\python310\\lib\\site-packages (from pandas>=0.24.0->label-studio-converter) (2024.1)\n",
      "Requirement already satisfied: charset-normalizer<4,>=2 in c:\\users\\michael\\appdata\\local\\programs\\python\\python310\\lib\\site-packages (from requests<3,>=2.22.0->label-studio-converter) (3.3.2)\n",
      "Requirement already satisfied: certifi>=2017.4.17 in c:\\users\\michael\\appdata\\local\\programs\\python\\python310\\lib\\site-packages (from requests<3,>=2.22.0->label-studio-converter) (2024.2.2)\n",
      "Requirement already satisfied: urllib3<3,>=1.21.1 in c:\\users\\michael\\appdata\\local\\programs\\python\\python310\\lib\\site-packages (from requests<3,>=2.22.0->label-studio-converter) (2.2.1)\n",
      "Requirement already satisfied: idna<4,>=2.5 in c:\\users\\michael\\appdata\\local\\programs\\python\\python310\\lib\\site-packages (from requests<3,>=2.22.0->label-studio-converter) (3.6)\n",
      "Requirement already satisfied: six>=1.5 in c:\\users\\michael\\appdata\\roaming\\python\\python310\\site-packages (from python-dateutil>=2.8.2->pandas>=0.24.0->label-studio-converter) (1.16.0)\n",
      "Requirement already satisfied: colorama in c:\\users\\michael\\appdata\\roaming\\python\\python310\\site-packages (from click->nltk==3.6.7->label-studio-converter) (0.4.6)\n",
      "Installing collected packages: ijson, appdirs, ujson, lxml, nltk, label-studio-tools, label-studio-converter\n",
      "Successfully installed appdirs-1.4.4 ijson-3.2.3 label-studio-converter-0.0.58 label-studio-tools-0.0.3 lxml-5.2.1 nltk-3.6.7 ujson-5.9.0\n",
      "Note: you may need to restart the kernel to use updated packages.\n"
     ]
    },
    {
     "name": "stderr",
     "output_type": "stream",
     "text": [
      "\n",
      "[notice] A new release of pip available: 22.2.1 -> 24.0\n",
      "[notice] To update, run: python.exe -m pip install --upgrade pip\n"
     ]
    }
   ],
   "source": [
    "pip install label-studio-converter"
   ]
  },
  {
   "cell_type": "code",
   "execution_count": 17,
   "metadata": {},
   "outputs": [],
   "source": [
    "import pandas as pd\n",
    "import numpy as np\n",
    "\n",
    "from label_studio_converter import Converter"
   ]
  },
  {
   "cell_type": "code",
   "execution_count": 18,
   "metadata": {},
   "outputs": [
    {
     "ename": "TypeError",
     "evalue": "Converter.__init__() missing 1 required positional argument: 'project_dir'",
     "output_type": "error",
     "traceback": [
      "\u001b[1;31m---------------------------------------------------------------------------\u001b[0m",
      "\u001b[1;31mTypeError\u001b[0m                                 Traceback (most recent call last)",
      "Cell \u001b[1;32mIn[18], line 1\u001b[0m\n\u001b[1;32m----> 1\u001b[0m c \u001b[38;5;241m=\u001b[39m \u001b[43mConverter\u001b[49m\u001b[43m(\u001b[49m\u001b[38;5;124;43m\"\u001b[39;49m\u001b[38;5;124;43m2024-02-21-Schadenserkennung-Annotationen.json\u001b[39;49m\u001b[38;5;124;43m\"\u001b[39;49m\u001b[43m)\u001b[49m\n",
      "\u001b[1;31mTypeError\u001b[0m: Converter.__init__() missing 1 required positional argument: 'project_dir'"
     ]
    }
   ],
   "source": [
    "c = Converter(\"2024-02-21-Schadenserkennung-Annotationen.json\")"
   ]
  },
  {
   "cell_type": "code",
   "execution_count": 15,
   "metadata": {},
   "outputs": [
    {
     "ename": "NameError",
     "evalue": "name 'pd' is not defined",
     "output_type": "error",
     "traceback": [
      "\u001b[1;31m---------------------------------------------------------------------------\u001b[0m",
      "\u001b[1;31mNameError\u001b[0m                                 Traceback (most recent call last)",
      "Cell \u001b[1;32mIn[15], line 1\u001b[0m\n\u001b[1;32m----> 1\u001b[0m data \u001b[38;5;241m=\u001b[39m \u001b[43mpd\u001b[49m\u001b[38;5;241m.\u001b[39mread_json(\u001b[38;5;124m\"\u001b[39m\u001b[38;5;124m2024-02-21-Schadenserkennung-Annotationen.json\u001b[39m\u001b[38;5;124m\"\u001b[39m)\n",
      "\u001b[1;31mNameError\u001b[0m: name 'pd' is not defined"
     ]
    }
   ],
   "source": [
    "data = pd.read_json(\"2024-02-21-Schadenserkennung-Annotationen.json\")"
   ]
  },
  {
   "cell_type": "code",
   "execution_count": null,
   "metadata": {},
   "outputs": [],
   "source": []
  }
 ],
 "metadata": {
  "kernelspec": {
   "display_name": "Python 3",
   "language": "python",
   "name": "python3"
  },
  "language_info": {
   "codemirror_mode": {
    "name": "ipython",
    "version": 3
   },
   "file_extension": ".py",
   "mimetype": "text/x-python",
   "name": "python",
   "nbconvert_exporter": "python",
   "pygments_lexer": "ipython3",
   "version": "3.10.6"
  }
 },
 "nbformat": 4,
 "nbformat_minor": 2
}
