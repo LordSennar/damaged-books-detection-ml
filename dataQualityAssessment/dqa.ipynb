{
 "cells": [
  {
   "cell_type": "markdown",
   "metadata": {},
   "source": [
    "# Data Quality Assessment für die Bachelorarbeit: Schadenserkennung bei Büchern mit machine learning"
   ]
  },
  {
   "cell_type": "code",
   "execution_count": 226,
   "metadata": {},
   "outputs": [],
   "source": [
    "import pandas as pd\n",
    "import matplotlib"
   ]
  },
  {
   "cell_type": "code",
   "execution_count": 227,
   "metadata": {},
   "outputs": [],
   "source": [
    "# einlesen der Daten von json\n",
    "data = pd.read_json(\"2024-02-21-Schadenserkennung-Annotationen.json\")\n",
    "data = data.set_index(\"id\")"
   ]
  },
  {
   "cell_type": "markdown",
   "metadata": {},
   "source": [
    "## Verwerfen von nicht brauchbaren Daten"
   ]
  },
  {
   "cell_type": "code",
   "execution_count": 228,
   "metadata": {},
   "outputs": [],
   "source": [
    "# verwerfen von nicht zu verwendenen Daten\n",
    "#\n",
    "#   created_at und updated_at geben keine informationen über den inhalt des bildes bzw der annotation\n",
    "#   lead_time interessiert nicht\n",
    "#   annotator_id ist die id + 54\n",
    "#   annotator ist immer 1\n",
    "#   choice hat 974/1081 nullwerte (Nan)\n",
    "#   \n",
    "# Die restlichen Werte können relevant sein für das trainieren des algorithmus\n",
    "\n",
    "data_dropped = data.drop([\"created_at\", \"updated_at\", \"lead_time\", \"annotation_id\", \"annotator\", \"choice\"], axis=1)"
   ]
  },
  {
   "cell_type": "markdown",
   "metadata": {},
   "source": [
    "## Kategorie \"label\" weiter aufteilen\n",
    "Extrahieren der einzelnen Schadensarten und festlegen ob es überhaupt schäden hat."
   ]
  },
  {
   "cell_type": "code",
   "execution_count": 229,
   "metadata": {},
   "outputs": [],
   "source": [
    "label = pd.json_normalize(data_dropped[\"label\"])\n",
    "total = ['Schimmel', 'Wasser', 'Sonstiges', 'Schäden', 'Schmutz', 'Schädlinge']\n",
    "\n",
    "# Add column for every category used\n",
    "for x in total:\n",
    "    data_dropped[x] = False\n",
    "data_dropped[\"hat_schäden\"] = None\n",
    "\n",
    "# True where category is true\n",
    "# rows\n",
    "for x in range(label.shape[0]):\n",
    "    rowx = set()\n",
    "    # colums\n",
    "    for y in range(label.shape[1]):\n",
    "        if label[y][x] != None:\n",
    "            rowx.add(label[y][x][\"polygonlabels\"][0])\n",
    "    if label[0][x] == None:\n",
    "        data_dropped.loc[x+1, \"hat_schäden\"]= False\n",
    "    else:\n",
    "        for s in rowx:\n",
    "            data_dropped.loc[x+1, s] = True\n",
    "        data_dropped.loc[x+1, \"hat_schäden\"] = True"
   ]
  },
  {
   "cell_type": "markdown",
   "metadata": {},
   "source": [
    "## Datentyps kontrollieren\n",
    "image ist ein objekt, da strings in pandas so gespeichert werden.\n",
    "\n",
    "label ist ein objekt da es gemischte Datentypen enthält: strings, int, float, bool"
   ]
  },
  {
   "cell_type": "code",
   "execution_count": 230,
   "metadata": {},
   "outputs": [],
   "source": [
    "# change \"hat_schäden\" da es nur True und Fale drin hat\n",
    "data_preprocessed = data_dropped.astype({\"hat_schäden\" : \"bool\"})"
   ]
  },
  {
   "cell_type": "markdown",
   "metadata": {},
   "source": [
    "## Auf None/Nan kontrollieren\n",
    "Wenn diese in \"image\" auftreten --> löschen"
   ]
  },
  {
   "cell_type": "code",
   "execution_count": 231,
   "metadata": {},
   "outputs": [],
   "source": [
    "# False = keine None/Nan\n",
    "nonetest = data_preprocessed[\"image\"].isnull().any()\n",
    "\n",
    "if nonetest == True:\n",
    "    # drop rows with None only\n",
    "    data_preprocessed.dropna(axis=0, how=\"all\", inplace=True)\n",
    "    # drop rows with none in image, without areference it is impossible to get to the right picture\n",
    "    data_preprocessed.dropna(axis=0, subset=[\"image\"], inplace=True)"
   ]
  },
  {
   "cell_type": "markdown",
   "metadata": {},
   "source": [
    "## Mengen und verschiedene Anhaltspunkte"
   ]
  },
  {
   "cell_type": "code",
   "execution_count": 232,
   "metadata": {},
   "outputs": [
    {
     "data": {
      "text/plain": [
       "hat_schäden\n",
       "True     882\n",
       "False    199\n",
       "Name: count, dtype: int64"
      ]
     },
     "execution_count": 232,
     "metadata": {},
     "output_type": "execute_result"
    }
   ],
   "source": [
    "data_preprocessed[\"hat_schäden\"].value_counts()"
   ]
  },
  {
   "cell_type": "markdown",
   "metadata": {},
   "source": [
    "Es hat 882 Einträge die schäden aufweisen und 199 die keine haben"
   ]
  },
  {
   "cell_type": "code",
   "execution_count": 251,
   "metadata": {},
   "outputs": [
    {
     "name": "stdout",
     "output_type": "stream",
     "text": [
      "{'Schimmel': 10, 'Wasser': 274, 'Sonstiges': 402, 'Schäden': 237, 'Schmutz': 871, 'Schädlinge': 4}\n"
     ]
    }
   ],
   "source": [
    "truthlist = {}\n",
    "for x in total:\n",
    "    truthlist[x] = data_preprocessed[x].value_counts()[True]\n",
    "print(truthlist)"
   ]
  },
  {
   "cell_type": "code",
   "execution_count": 256,
   "metadata": {},
   "outputs": [
    {
     "data": {
      "text/plain": [
       "Schimmel  Wasser  Sonstiges  Schäden  Schmutz  Schädlinge\n",
       "False     False   False      False    True     False         234\n",
       "                  True       False    True     False         207\n",
       "                  False      False    False    False         199\n",
       "          True    False      False    True     False         100\n",
       "                  True       False    True     False          87\n",
       "          False   False      True     True     False          80\n",
       "                  True       True     True     False          69\n",
       "          True    False      True     True     False          52\n",
       "                  True       True     True     False          28\n",
       "          False   True       False    False    False           6\n",
       "True      False   False      False    True     False           3\n",
       "                  True       False    True     False           2\n",
       "                  False      True     True     False           2\n",
       "False     True    False      False    True     True            2\n",
       "          False   False      True     False    False           2\n",
       "          True    True       False    False    False           1\n",
       "                  False      True     False    False           1\n",
       "                             False    False    False           1\n",
       "          False   True       True     True     True            1\n",
       "                  False      False    True     True            1\n",
       "True      False   True       True     True     False           1\n",
       "          True    False      False    True     False           1\n",
       "                             True     True     False           1\n",
       "Name: count, dtype: int64"
      ]
     },
     "execution_count": 256,
     "metadata": {},
     "output_type": "execute_result"
    }
   ],
   "source": [
    "data_preprocessed[total].value_counts()"
   ]
  },
  {
   "cell_type": "markdown",
   "metadata": {},
   "source": [
    "# TODO: \n",
    "1. verteilung der einzelnen schadenstypen, menge, min, max usw\n",
    "3. verteilung von: hat schäden und hat keine\n",
    "\n",
    "\n",
    "Zeile 216 hat die meisten schadenseinträge, gesamt 37"
   ]
  },
  {
   "cell_type": "code",
   "execution_count": null,
   "metadata": {},
   "outputs": [],
   "source": []
  },
  {
   "cell_type": "code",
   "execution_count": null,
   "metadata": {},
   "outputs": [],
   "source": []
  }
 ],
 "metadata": {
  "kernelspec": {
   "display_name": "Python 3",
   "language": "python",
   "name": "python3"
  },
  "language_info": {
   "codemirror_mode": {
    "name": "ipython",
    "version": 3
   },
   "file_extension": ".py",
   "mimetype": "text/x-python",
   "name": "python",
   "nbconvert_exporter": "python",
   "pygments_lexer": "ipython3",
   "version": "3.10.11"
  }
 },
 "nbformat": 4,
 "nbformat_minor": 2
}
