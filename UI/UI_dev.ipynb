{
 "cells": [
  {
   "cell_type": "code",
   "execution_count": 1,
   "metadata": {},
   "outputs": [],
   "source": [
    "import tkinter as tk\n",
    "import os\n",
    "from PIL import Image, ImageTk, ImageDraw, ImageFont\n",
    "import subprocess"
   ]
  },
  {
   "cell_type": "code",
   "execution_count": 14,
   "metadata": {},
   "outputs": [],
   "source": [
    "OUTPUT_FOLDER = 'result'\n",
    "CANVAS_WIDTH = 800\n",
    "CANVAS_HEIGHT = 500\n",
    "INPUT_FOLDER = \"prediction_images\"\n",
    "\n",
    "root = tk.Tk()\n",
    "\n",
    "root.title(\"Benutzeroberfläche zur Expertenkontrolle\")\n",
    "\n",
    "root.geometry(f\"{CANVAS_WIDTH}x{CANVAS_HEIGHT}\")\n",
    "\n",
    "lbl = tk.Label(root, text=\"Bild Nummer: LB0384560386\")\n",
    "lbl.grid()\n",
    "\n",
    "def clicked():\n",
    "    lbl.configure(text=\"Got clicked\")\n",
    "\n",
    "btn = tk.Button(root, text=\"Clickiiiii\", fg=\"green\", command=clicked)\n",
    "btn.grid()\n",
    "\n",
    "root.mainloop()"
   ]
  },
  {
   "cell_type": "code",
   "execution_count": 17,
   "metadata": {},
   "outputs": [],
   "source": [
    "\n"
   ]
  },
  {
   "cell_type": "code",
   "execution_count": null,
   "metadata": {},
   "outputs": [],
   "source": []
  },
  {
   "cell_type": "code",
   "execution_count": null,
   "metadata": {},
   "outputs": [],
   "source": []
  },
  {
   "cell_type": "code",
   "execution_count": null,
   "metadata": {},
   "outputs": [],
   "source": []
  }
 ],
 "metadata": {
  "kernelspec": {
   "display_name": "Python 3",
   "language": "python",
   "name": "python3"
  },
  "language_info": {
   "codemirror_mode": {
    "name": "ipython",
    "version": 3
   },
   "file_extension": ".py",
   "mimetype": "text/x-python",
   "name": "python",
   "nbconvert_exporter": "python",
   "pygments_lexer": "ipython3",
   "version": "3.10.6"
  }
 },
 "nbformat": 4,
 "nbformat_minor": 2
}
