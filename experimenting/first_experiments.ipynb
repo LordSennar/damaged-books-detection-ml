{
 "cells": [
  {
   "cell_type": "markdown",
   "metadata": {},
   "source": [
    "## Imports\n",
    "inkl. Bildimport"
   ]
  },
  {
   "cell_type": "code",
   "execution_count": 4,
   "metadata": {},
   "outputs": [],
   "source": [
    "# pip install torch torchvision torchaudio --index-url https://download.pytorch.org/whl/cu121"
   ]
  },
  {
   "cell_type": "code",
   "execution_count": 5,
   "metadata": {},
   "outputs": [],
   "source": [
    "# pip install transformers"
   ]
  },
  {
   "cell_type": "code",
   "execution_count": 6,
   "metadata": {},
   "outputs": [],
   "source": [
    "# pip install timm # for DetrConvEncoder"
   ]
  },
  {
   "cell_type": "code",
   "execution_count": 7,
   "metadata": {},
   "outputs": [],
   "source": [
    "# pip install pytorch-lightning"
   ]
  },
  {
   "cell_type": "code",
   "execution_count": 8,
   "metadata": {},
   "outputs": [],
   "source": [
    "import pandas as pd\n",
    "import numpy as np\n",
    "import torch, torchvision, torchaudio\n",
    "\n",
    "from transformers import AutoImageProcessor, DetrForObjectDetection\n",
    "from PIL import Image, ImageDraw\n",
    "import sys\n",
    "import requests"
   ]
  },
  {
   "cell_type": "code",
   "execution_count": 9,
   "metadata": {},
   "outputs": [
    {
     "name": "stderr",
     "output_type": "stream",
     "text": [
      "c:\\Users\\Michael\\AppData\\Local\\Programs\\Python\\Python310\\lib\\site-packages\\huggingface_hub\\file_download.py:148: UserWarning: `huggingface_hub` cache-system uses symlinks by default to efficiently store duplicated files but your machine does not support them in C:\\Users\\Michael\\.cache\\huggingface\\hub\\models--facebook--detr-resnet-50. Caching files will still work but in a degraded version that might require more space on your disk. This warning can be disabled by setting the `HF_HUB_DISABLE_SYMLINKS_WARNING` environment variable. For more details, see https://huggingface.co/docs/huggingface_hub/how-to-cache#limitations.\n",
      "To support symlinks on Windows, you either need to activate Developer Mode or to run Python as an administrator. In order to see activate developer mode, see this article: https://docs.microsoft.com/en-us/windows/apps/get-started/enable-your-device-for-development\n",
      "  warnings.warn(message)\n",
      "Some weights of the model checkpoint at facebook/detr-resnet-50 were not used when initializing DetrForObjectDetection: ['model.backbone.conv_encoder.model.layer1.0.downsample.1.num_batches_tracked', 'model.backbone.conv_encoder.model.layer2.0.downsample.1.num_batches_tracked', 'model.backbone.conv_encoder.model.layer3.0.downsample.1.num_batches_tracked', 'model.backbone.conv_encoder.model.layer4.0.downsample.1.num_batches_tracked']\n",
      "- This IS expected if you are initializing DetrForObjectDetection from the checkpoint of a model trained on another task or with another architecture (e.g. initializing a BertForSequenceClassification model from a BertForPreTraining model).\n",
      "- This IS NOT expected if you are initializing DetrForObjectDetection from the checkpoint of a model that you expect to be exactly identical (initializing a BertForSequenceClassification model from a BertForSequenceClassification model).\n"
     ]
    }
   ],
   "source": [
    "model = DetrForObjectDetection.from_pretrained(\"facebook/detr-resnet-50\")"
   ]
  },
  {
   "cell_type": "code",
   "execution_count": 10,
   "metadata": {},
   "outputs": [
    {
     "name": "stderr",
     "output_type": "stream",
     "text": [
      "Some weights of the model checkpoint at facebook/detr-resnet-50 were not used when initializing DetrForObjectDetection: ['model.backbone.conv_encoder.model.layer1.0.downsample.1.num_batches_tracked', 'model.backbone.conv_encoder.model.layer2.0.downsample.1.num_batches_tracked', 'model.backbone.conv_encoder.model.layer3.0.downsample.1.num_batches_tracked', 'model.backbone.conv_encoder.model.layer4.0.downsample.1.num_batches_tracked']\n",
      "- This IS expected if you are initializing DetrForObjectDetection from the checkpoint of a model trained on another task or with another architecture (e.g. initializing a BertForSequenceClassification model from a BertForPreTraining model).\n",
      "- This IS NOT expected if you are initializing DetrForObjectDetection from the checkpoint of a model that you expect to be exactly identical (initializing a BertForSequenceClassification model from a BertForSequenceClassification model).\n"
     ]
    },
    {
     "name": "stdout",
     "output_type": "stream",
     "text": [
      "Detected book with confidence 0.819 at location [845.3, 386.9, 1102.25, 463.73]\n",
      "Detected book with confidence 0.831 at location [847.19, 298.4, 1093.29, 359.54]\n",
      "Detected book with confidence 0.85 at location [846.5, 815.68, 1097.37, 875.0]\n",
      "Detected book with confidence 0.855 at location [1092.68, 307.47, 1335.5, 385.39]\n",
      "Detected book with confidence 0.919 at location [573.83, 563.34, 850.96, 677.42]\n",
      "Detected book with confidence 0.83 at location [1092.95, 370.19, 1334.24, 444.72]\n",
      "Detected book with confidence 0.822 at location [846.94, 350.84, 1100.97, 429.94]\n",
      "Detected book with confidence 0.86 at location [846.28, 745.25, 1090.86, 811.76]\n",
      "Detected book with confidence 0.815 at location [595.95, 814.88, 832.39, 884.79]\n",
      "Detected book with confidence 0.871 at location [579.68, 466.76, 852.87, 545.79]\n",
      "Detected book with confidence 0.82 at location [845.75, 531.48, 1092.19, 613.67]\n",
      "Detected book with confidence 0.881 at location [842.38, 678.51, 1094.85, 763.49]\n",
      "[[845.3, 386.9, 1102.25, 463.73], [847.19, 298.4, 1093.29, 359.54], [846.5, 815.68, 1097.37, 875.0], [1092.68, 307.47, 1335.5, 385.39], [573.83, 563.34, 850.96, 677.42], [1092.95, 370.19, 1334.24, 444.72], [846.94, 350.84, 1100.97, 429.94], [846.28, 745.25, 1090.86, 811.76], [595.95, 814.88, 832.39, 884.79], [579.68, 466.76, 852.87, 545.79], [845.75, 531.48, 1092.19, 613.67], [842.38, 678.51, 1094.85, 763.49]]\n"
     ]
    }
   ],
   "source": [
    "#url = \"http://images.cocodataset.org/val2017/000000039769.jpg\"\n",
    "#image = Image.open(requests.get(url, stream=True).raw)\n",
    "\n",
    "local = \"C:/Users/Michael/Desktop/old/BAA/Annotierte_Bilder/2024-02-21-Schadenserkennung-Annotationen/images/LB00000510.png\"\n",
    "image = Image.open(local).convert(\"RGB\")\n",
    "\n",
    "image_processor = AutoImageProcessor.from_pretrained(\"facebook/detr-resnet-50\")\n",
    "model = DetrForObjectDetection.from_pretrained(\"facebook/detr-resnet-50\")\n",
    "\n",
    "inputs = image_processor(images=image, return_tensors=\"pt\")\n",
    "outputs = model(**inputs)\n",
    "\n",
    "# convert outputs (bounding boxes and class logits) to Pascal VOC format (xmin, ymin, xmax, ymax)\n",
    "target_sizes = torch.tensor([image.size[::-1]])\n",
    "results = image_processor.post_process_object_detection(outputs, threshold=0.8, target_sizes=target_sizes)[\n",
    "    0\n",
    "]\n",
    "\n",
    "# print(results)\n",
    "boxes = []\n",
    "for score, label, box in zip(results[\"scores\"], results[\"labels\"], results[\"boxes\"]):\n",
    "    box = [round(i, 2) for i in box.tolist()]\n",
    "    boxes.append(box)\n",
    "    print(\n",
    "        f\"Detected {model.config.id2label[label.item()]} with confidence \"\n",
    "        f\"{round(score.item(), 3)} at location {box}\"\n",
    "    )\n",
    "print(boxes)"
   ]
  },
  {
   "cell_type": "code",
   "execution_count": 17,
   "metadata": {},
   "outputs": [
    {
     "name": "stdout",
     "output_type": "stream",
     "text": [
      "[845.3, 386.9, 1102.25, 463.73]\n",
      "[847.19, 298.4, 1093.29, 359.54]\n",
      "[846.5, 815.68, 1097.37, 875.0]\n",
      "[1092.68, 307.47, 1335.5, 385.39]\n",
      "[573.83, 563.34, 850.96, 677.42]\n",
      "[1092.95, 370.19, 1334.24, 444.72]\n",
      "[846.94, 350.84, 1100.97, 429.94]\n",
      "[846.28, 745.25, 1090.86, 811.76]\n",
      "[595.95, 814.88, 832.39, 884.79]\n",
      "[579.68, 466.76, 852.87, 545.79]\n",
      "[845.75, 531.48, 1092.19, 613.67]\n",
      "[842.38, 678.51, 1094.85, 763.49]\n"
     ]
    }
   ],
   "source": [
    "polys = [[854.47, 300.44, 920.71, 613.65], [512.43, 296.58, 606.01, 614.75], [958.31, 319.3, 1027.05, 621.06], [893.3, 300.9, 982.65, 616.84]]\n",
    "\n",
    "with Image.open(\"LB00000510.png\") as im:\n",
    "\n",
    "    draw = ImageDraw.Draw(im)\n",
    "    # y = [(1121.1928567300467,278.23551354730927),(1121.1928567300467 + 52.5394965665439,278.23551354730927 + 288.9672311159914)]\n",
    "    # draw.rectangle(y, -1, 128, 10)\n",
    "    for x in boxes:\n",
    "        print(x)\n",
    "        draw.rectangle(x, -1, 128, 10)\n",
    "    im.show()\n",
    "    #im.save(sys.stdout, \"PNG\")"
   ]
  },
  {
   "cell_type": "code",
   "execution_count": 12,
   "metadata": {},
   "outputs": [
    {
     "name": "stdout",
     "output_type": "stream",
     "text": [
      "[845.3, 386.9, 1102.25, 463.73]\n",
      "[847.19, 298.4, 1093.29, 359.54]\n",
      "[846.5, 815.68, 1097.37, 875.0]\n",
      "[1092.68, 307.47, 1335.5, 385.39]\n",
      "[573.83, 563.34, 850.96, 677.42]\n",
      "[1092.95, 370.19, 1334.24, 444.72]\n",
      "[846.94, 350.84, 1100.97, 429.94]\n",
      "[846.28, 745.25, 1090.86, 811.76]\n",
      "[595.95, 814.88, 832.39, 884.79]\n",
      "[579.68, 466.76, 852.87, 545.79]\n",
      "[845.75, 531.48, 1092.19, 613.67]\n",
      "[842.38, 678.51, 1094.85, 763.49]\n"
     ]
    }
   ],
   "source": [
    "for x in boxes:\n",
    "    print(x)"
   ]
  },
  {
   "cell_type": "markdown",
   "metadata": {},
   "source": [
    "# Training Loop\n",
    "Inspired by: https://github.com/NielsRogge/Transformers-Tutorials/tree/master/DETR"
   ]
  },
  {
   "cell_type": "code",
   "execution_count": 13,
   "metadata": {},
   "outputs": [],
   "source": [
    "from transformers import DetrConfig, DetrImageProcessor, DetrForObjectDetection\n",
    "import torchvision\n",
    "import os"
   ]
  },
  {
   "cell_type": "code",
   "execution_count": 14,
   "metadata": {},
   "outputs": [],
   "source": [
    "class CocoDetection(torchvision.datasets.CocoDetection):\n",
    "    def __init__(self, img_folder, processor, train=True):\n",
    "        ann_file = os.path.join(img_folder, \"custom_train.json\" if train else \"custom_val.json\")\n",
    "        super(CocoDetection, self).__init__(img_folder, ann_file)\n",
    "        self.processor = processor\n",
    "\n",
    "    def __getitem__(self, idx):\n",
    "        # read in PIL image and target in COCO format\n",
    "        # feel free to add data augmentation here before passing them to the next step\n",
    "        img, target = super(CocoDetection, self).__getitem__(idx)\n",
    "\n",
    "        # preprocess image and target (converting target to DETR format, resizing + normalization of both image and target)\n",
    "        image_id = self.ids[idx]\n",
    "        target = {'image_id': image_id, 'annotations': target}\n",
    "        encoding = self.processor(images=img, annotations=target, return_tensors=\"pt\")\n",
    "        pixel_values = encoding[\"pixel_values\"].squeeze() # remove batch dimension\n",
    "        target = encoding[\"labels\"][0] # remove batch dimension\n",
    "\n",
    "        return pixel_values, target"
   ]
  },
  {
   "cell_type": "code",
   "execution_count": 15,
   "metadata": {},
   "outputs": [],
   "source": [
    "processor = DetrImageProcessor.from_pretrained(\"facebook/detr-resnet-50\")\n",
    "\n",
    "# Create Train and Validation Dataset\n",
    "# TODO im dqa das kleinere Datenset in train und val aufteilen, vielleicht auch ein testset extrahieren?\n",
    "# train_dataset = CocoDetection(img_folder='/content/balloon/train', processor=processor)\n",
    "# val_dataset = CocoDetection(img_folder='/content/balloon/val', processor=processor, train=False)"
   ]
  }
 ],
 "metadata": {
  "kernelspec": {
   "display_name": "Python 3",
   "language": "python",
   "name": "python3"
  },
  "language_info": {
   "codemirror_mode": {
    "name": "ipython",
    "version": 3
   },
   "file_extension": ".py",
   "mimetype": "text/x-python",
   "name": "python",
   "nbconvert_exporter": "python",
   "pygments_lexer": "ipython3",
   "version": "3.10.6"
  }
 },
 "nbformat": 4,
 "nbformat_minor": 2
}
