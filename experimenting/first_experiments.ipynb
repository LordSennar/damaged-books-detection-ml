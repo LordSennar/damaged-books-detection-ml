{
 "cells": [
  {
   "cell_type": "markdown",
   "metadata": {},
   "source": [
    "## Imports\n",
    "inkl. Bildimport"
   ]
  },
  {
   "cell_type": "code",
   "execution_count": 19,
   "metadata": {},
   "outputs": [],
   "source": [
    "# pip install torch torchvision torchaudio --index-url https://download.pytorch.org/whl/cu121"
   ]
  },
  {
   "cell_type": "code",
   "execution_count": 20,
   "metadata": {},
   "outputs": [],
   "source": [
    "# pip install transformers"
   ]
  },
  {
   "cell_type": "code",
   "execution_count": 21,
   "metadata": {},
   "outputs": [],
   "source": [
    "# pip install timm # for DetrConvEncoder"
   ]
  },
  {
   "cell_type": "code",
   "execution_count": 22,
   "metadata": {},
   "outputs": [],
   "source": [
    "# pip install pytorch-lightning"
   ]
  },
  {
   "cell_type": "code",
   "execution_count": 31,
   "metadata": {},
   "outputs": [
    {
     "name": "stdout",
     "output_type": "stream",
     "text": [
      "Collecting pycocotools\n",
      "  Downloading pycocotools-2.0.7-cp310-cp310-win_amd64.whl (84 kB)\n",
      "     ---------------------------------------- 84.9/84.9 kB 2.4 MB/s eta 0:00:00\n",
      "Requirement already satisfied: numpy in c:\\users\\michael\\appdata\\local\\programs\\python\\python310\\lib\\site-packages (from pycocotools) (1.26.4)\n",
      "Requirement already satisfied: matplotlib>=2.1.0 in c:\\users\\michael\\appdata\\local\\programs\\python\\python310\\lib\\site-packages (from pycocotools) (3.8.3)\n",
      "Requirement already satisfied: python-dateutil>=2.7 in c:\\users\\michael\\appdata\\roaming\\python\\python310\\site-packages (from matplotlib>=2.1.0->pycocotools) (2.9.0.post0)\n",
      "Requirement already satisfied: kiwisolver>=1.3.1 in c:\\users\\michael\\appdata\\local\\programs\\python\\python310\\lib\\site-packages (from matplotlib>=2.1.0->pycocotools) (1.4.5)\n",
      "Requirement already satisfied: pyparsing>=2.3.1 in c:\\users\\michael\\appdata\\local\\programs\\python\\python310\\lib\\site-packages (from matplotlib>=2.1.0->pycocotools) (3.1.2)\n",
      "Requirement already satisfied: contourpy>=1.0.1 in c:\\users\\michael\\appdata\\local\\programs\\python\\python310\\lib\\site-packages (from matplotlib>=2.1.0->pycocotools) (1.2.0)\n",
      "Requirement already satisfied: packaging>=20.0 in c:\\users\\michael\\appdata\\roaming\\python\\python310\\site-packages (from matplotlib>=2.1.0->pycocotools) (23.2)\n",
      "Requirement already satisfied: fonttools>=4.22.0 in c:\\users\\michael\\appdata\\local\\programs\\python\\python310\\lib\\site-packages (from matplotlib>=2.1.0->pycocotools) (4.49.0)\n",
      "Requirement already satisfied: pillow>=8 in c:\\users\\michael\\appdata\\local\\programs\\python\\python310\\lib\\site-packages (from matplotlib>=2.1.0->pycocotools) (10.2.0)\n",
      "Requirement already satisfied: cycler>=0.10 in c:\\users\\michael\\appdata\\local\\programs\\python\\python310\\lib\\site-packages (from matplotlib>=2.1.0->pycocotools) (0.12.1)\n",
      "Requirement already satisfied: six>=1.5 in c:\\users\\michael\\appdata\\roaming\\python\\python310\\site-packages (from python-dateutil>=2.7->matplotlib>=2.1.0->pycocotools) (1.16.0)\n",
      "Installing collected packages: pycocotools\n",
      "Successfully installed pycocotools-2.0.7\n",
      "Note: you may need to restart the kernel to use updated packages.\n"
     ]
    },
    {
     "name": "stderr",
     "output_type": "stream",
     "text": [
      "\n",
      "[notice] A new release of pip available: 22.2.1 -> 24.0\n",
      "[notice] To update, run: python.exe -m pip install --upgrade pip\n"
     ]
    }
   ],
   "source": [
    "# pip install pycocotools"
   ]
  },
  {
   "cell_type": "code",
   "execution_count": 23,
   "metadata": {},
   "outputs": [],
   "source": [
    "import pandas as pd\n",
    "import numpy as np\n",
    "import torch, torchvision, torchaudio\n",
    "\n",
    "from transformers import AutoImageProcessor, DetrForObjectDetection\n",
    "from PIL import Image, ImageDraw\n",
    "import sys\n",
    "import requests"
   ]
  },
  {
   "cell_type": "code",
   "execution_count": 24,
   "metadata": {},
   "outputs": [
    {
     "name": "stderr",
     "output_type": "stream",
     "text": [
      "Some weights of the model checkpoint at facebook/detr-resnet-50 were not used when initializing DetrForObjectDetection: ['model.backbone.conv_encoder.model.layer1.0.downsample.1.num_batches_tracked', 'model.backbone.conv_encoder.model.layer2.0.downsample.1.num_batches_tracked', 'model.backbone.conv_encoder.model.layer3.0.downsample.1.num_batches_tracked', 'model.backbone.conv_encoder.model.layer4.0.downsample.1.num_batches_tracked']\n",
      "- This IS expected if you are initializing DetrForObjectDetection from the checkpoint of a model trained on another task or with another architecture (e.g. initializing a BertForSequenceClassification model from a BertForPreTraining model).\n",
      "- This IS NOT expected if you are initializing DetrForObjectDetection from the checkpoint of a model that you expect to be exactly identical (initializing a BertForSequenceClassification model from a BertForSequenceClassification model).\n"
     ]
    }
   ],
   "source": [
    "model = DetrForObjectDetection.from_pretrained(\"facebook/detr-resnet-50\")"
   ]
  },
  {
   "cell_type": "code",
   "execution_count": 25,
   "metadata": {},
   "outputs": [
    {
     "name": "stderr",
     "output_type": "stream",
     "text": [
      "Some weights of the model checkpoint at facebook/detr-resnet-50 were not used when initializing DetrForObjectDetection: ['model.backbone.conv_encoder.model.layer1.0.downsample.1.num_batches_tracked', 'model.backbone.conv_encoder.model.layer2.0.downsample.1.num_batches_tracked', 'model.backbone.conv_encoder.model.layer3.0.downsample.1.num_batches_tracked', 'model.backbone.conv_encoder.model.layer4.0.downsample.1.num_batches_tracked']\n",
      "- This IS expected if you are initializing DetrForObjectDetection from the checkpoint of a model trained on another task or with another architecture (e.g. initializing a BertForSequenceClassification model from a BertForPreTraining model).\n",
      "- This IS NOT expected if you are initializing DetrForObjectDetection from the checkpoint of a model that you expect to be exactly identical (initializing a BertForSequenceClassification model from a BertForSequenceClassification model).\n"
     ]
    },
    {
     "name": "stdout",
     "output_type": "stream",
     "text": [
      "Detected book with confidence 0.819 at location [845.3, 386.9, 1102.25, 463.73]\n",
      "Detected book with confidence 0.831 at location [847.19, 298.4, 1093.29, 359.54]\n",
      "Detected book with confidence 0.85 at location [846.5, 815.68, 1097.37, 875.0]\n",
      "Detected book with confidence 0.855 at location [1092.68, 307.47, 1335.5, 385.39]\n",
      "Detected book with confidence 0.919 at location [573.83, 563.34, 850.96, 677.42]\n",
      "Detected book with confidence 0.83 at location [1092.95, 370.19, 1334.24, 444.72]\n",
      "Detected book with confidence 0.822 at location [846.94, 350.84, 1100.97, 429.94]\n",
      "Detected book with confidence 0.86 at location [846.28, 745.25, 1090.86, 811.76]\n",
      "Detected book with confidence 0.815 at location [595.95, 814.88, 832.39, 884.79]\n",
      "Detected book with confidence 0.871 at location [579.68, 466.76, 852.87, 545.79]\n",
      "Detected book with confidence 0.82 at location [845.75, 531.48, 1092.19, 613.67]\n",
      "Detected book with confidence 0.881 at location [842.38, 678.51, 1094.85, 763.49]\n",
      "[[845.3, 386.9, 1102.25, 463.73], [847.19, 298.4, 1093.29, 359.54], [846.5, 815.68, 1097.37, 875.0], [1092.68, 307.47, 1335.5, 385.39], [573.83, 563.34, 850.96, 677.42], [1092.95, 370.19, 1334.24, 444.72], [846.94, 350.84, 1100.97, 429.94], [846.28, 745.25, 1090.86, 811.76], [595.95, 814.88, 832.39, 884.79], [579.68, 466.76, 852.87, 545.79], [845.75, 531.48, 1092.19, 613.67], [842.38, 678.51, 1094.85, 763.49]]\n"
     ]
    }
   ],
   "source": [
    "#url = \"http://images.cocodataset.org/val2017/000000039769.jpg\"\n",
    "#image = Image.open(requests.get(url, stream=True).raw)\n",
    "\n",
    "local = \"C:/Users/Michael/Desktop/old/BAA/Annotierte_Bilder/2024-02-21-Schadenserkennung-Annotationen/images/LB00000510.png\"\n",
    "image = Image.open(local).convert(\"RGB\")\n",
    "\n",
    "image_processor = AutoImageProcessor.from_pretrained(\"facebook/detr-resnet-50\")\n",
    "model = DetrForObjectDetection.from_pretrained(\"facebook/detr-resnet-50\")\n",
    "\n",
    "inputs = image_processor(images=image, return_tensors=\"pt\")\n",
    "outputs = model(**inputs)\n",
    "\n",
    "# convert outputs (bounding boxes and class logits) to Pascal VOC format (xmin, ymin, xmax, ymax)\n",
    "target_sizes = torch.tensor([image.size[::-1]])\n",
    "results = image_processor.post_process_object_detection(outputs, threshold=0.8, target_sizes=target_sizes)[\n",
    "    0\n",
    "]\n",
    "\n",
    "# print(results)\n",
    "boxes = []\n",
    "for score, label, box in zip(results[\"scores\"], results[\"labels\"], results[\"boxes\"]):\n",
    "    box = [round(i, 2) for i in box.tolist()]\n",
    "    boxes.append(box)\n",
    "    print(\n",
    "        f\"Detected {model.config.id2label[label.item()]} with confidence \"\n",
    "        f\"{round(score.item(), 3)} at location {box}\"\n",
    "    )\n",
    "print(boxes)"
   ]
  },
  {
   "cell_type": "code",
   "execution_count": 26,
   "metadata": {},
   "outputs": [
    {
     "name": "stdout",
     "output_type": "stream",
     "text": [
      "[845.3, 386.9, 1102.25, 463.73]\n",
      "[847.19, 298.4, 1093.29, 359.54]\n",
      "[846.5, 815.68, 1097.37, 875.0]\n",
      "[1092.68, 307.47, 1335.5, 385.39]\n",
      "[573.83, 563.34, 850.96, 677.42]\n",
      "[1092.95, 370.19, 1334.24, 444.72]\n",
      "[846.94, 350.84, 1100.97, 429.94]\n",
      "[846.28, 745.25, 1090.86, 811.76]\n",
      "[595.95, 814.88, 832.39, 884.79]\n",
      "[579.68, 466.76, 852.87, 545.79]\n",
      "[845.75, 531.48, 1092.19, 613.67]\n",
      "[842.38, 678.51, 1094.85, 763.49]\n"
     ]
    }
   ],
   "source": [
    "polys = [[854.47, 300.44, 920.71, 613.65], [512.43, 296.58, 606.01, 614.75], [958.31, 319.3, 1027.05, 621.06], [893.3, 300.9, 982.65, 616.84]]\n",
    "\n",
    "with Image.open(\"LB00000510.png\") as im:\n",
    "\n",
    "    draw = ImageDraw.Draw(im)\n",
    "    # y = [(1121.1928567300467,278.23551354730927),(1121.1928567300467 + 52.5394965665439,278.23551354730927 + 288.9672311159914)]\n",
    "    # draw.rectangle(y, -1, 128, 10)\n",
    "    for x in boxes:\n",
    "        print(x)\n",
    "        draw.rectangle(x, -1, 128, 10)\n",
    "    im.show()\n",
    "    #im.save(sys.stdout, \"PNG\")"
   ]
  },
  {
   "cell_type": "code",
   "execution_count": null,
   "metadata": {},
   "outputs": [],
   "source": []
  },
  {
   "cell_type": "markdown",
   "metadata": {},
   "source": [
    "# Training Loop\n",
    "Inspired by: https://github.com/NielsRogge/Transformers-Tutorials/tree/master/DETR"
   ]
  },
  {
   "cell_type": "code",
   "execution_count": 28,
   "metadata": {},
   "outputs": [],
   "source": [
    "from transformers import DetrConfig, DetrImageProcessor, DetrForObjectDetection\n",
    "import torchvision\n",
    "import os"
   ]
  },
  {
   "cell_type": "code",
   "execution_count": 33,
   "metadata": {},
   "outputs": [],
   "source": [
    "class CocoDetection(torchvision.datasets.CocoDetection):\n",
    "    def __init__(self, img_folder, processor, train=True):\n",
    "        ann_file = os.path.join(img_folder, \"coco_train.json\" if train else \"coco_val.json\")\n",
    "        super(CocoDetection, self).__init__(img_folder, ann_file)\n",
    "        self.processor = processor\n",
    "\n",
    "    def __getitem__(self, idx):\n",
    "        # read in PIL image and target in COCO format\n",
    "        # feel free to add data augmentation here before passing them to the next step\n",
    "        img, target = super(CocoDetection, self).__getitem__(idx)\n",
    "\n",
    "        # preprocess image and target (converting target to DETR format, resizing + normalization of both image and target)\n",
    "        image_id = self.ids[idx]\n",
    "        target = {'image_id': image_id, 'annotations': target}\n",
    "        encoding = self.processor(images=img, annotations=target, return_tensors=\"pt\")\n",
    "        pixel_values = encoding[\"pixel_values\"].squeeze() # remove batch dimension\n",
    "        target = encoding[\"labels\"][0] # remove batch dimension\n",
    "\n",
    "        return pixel_values, target"
   ]
  },
  {
   "cell_type": "code",
   "execution_count": 35,
   "metadata": {},
   "outputs": [
    {
     "name": "stdout",
     "output_type": "stream",
     "text": [
      "loading annotations into memory...\n"
     ]
    },
    {
     "ename": "FileNotFoundError",
     "evalue": "[Errno 2] No such file or directory: '../../../old/BAA/Annotierte_Bilder/2024-02-21-Schadenserkennung-Annotationen\\\\coco_train.json'",
     "output_type": "error",
     "traceback": [
      "\u001b[1;31m---------------------------------------------------------------------------\u001b[0m",
      "\u001b[1;31mFileNotFoundError\u001b[0m                         Traceback (most recent call last)",
      "Cell \u001b[1;32mIn[35], line 6\u001b[0m\n\u001b[0;32m      1\u001b[0m processor \u001b[38;5;241m=\u001b[39m DetrImageProcessor\u001b[38;5;241m.\u001b[39mfrom_pretrained(\u001b[38;5;124m\"\u001b[39m\u001b[38;5;124mfacebook/detr-resnet-50\u001b[39m\u001b[38;5;124m\"\u001b[39m)\n\u001b[0;32m      4\u001b[0m \u001b[38;5;66;03m# Create Train and Validation Dataset\u001b[39;00m\n\u001b[0;32m      5\u001b[0m \u001b[38;5;66;03m# TODO im dqa das kleinere Datenset in train und val aufteilen, vielleicht auch ein testset extrahieren?\u001b[39;00m\n\u001b[1;32m----> 6\u001b[0m train_dataset \u001b[38;5;241m=\u001b[39m \u001b[43mCocoDetection\u001b[49m\u001b[43m(\u001b[49m\u001b[43mimg_folder\u001b[49m\u001b[38;5;241;43m=\u001b[39;49m\u001b[38;5;124;43m'\u001b[39;49m\u001b[38;5;124;43m../../../old/BAA/Annotierte_Bilder/2024-02-21-Schadenserkennung-Annotationen\u001b[39;49m\u001b[38;5;124;43m'\u001b[39;49m\u001b[43m,\u001b[49m\u001b[43m \u001b[49m\u001b[43mprocessor\u001b[49m\u001b[38;5;241;43m=\u001b[39;49m\u001b[43mprocessor\u001b[49m\u001b[43m)\u001b[49m\n\u001b[0;32m      7\u001b[0m val_dataset \u001b[38;5;241m=\u001b[39m CocoDetection(img_folder\u001b[38;5;241m=\u001b[39m\u001b[38;5;124m'\u001b[39m\u001b[38;5;124m../../../old/BAA/Annotierte_Bilder/2024-02-21-Schadenserkennung-Annotationen\u001b[39m\u001b[38;5;124m'\u001b[39m, processor\u001b[38;5;241m=\u001b[39mprocessor, train\u001b[38;5;241m=\u001b[39m\u001b[38;5;28;01mFalse\u001b[39;00m)\n",
      "Cell \u001b[1;32mIn[33], line 4\u001b[0m, in \u001b[0;36mCocoDetection.__init__\u001b[1;34m(self, img_folder, processor, train)\u001b[0m\n\u001b[0;32m      2\u001b[0m \u001b[38;5;28;01mdef\u001b[39;00m \u001b[38;5;21m__init__\u001b[39m(\u001b[38;5;28mself\u001b[39m, img_folder, processor, train\u001b[38;5;241m=\u001b[39m\u001b[38;5;28;01mTrue\u001b[39;00m):\n\u001b[0;32m      3\u001b[0m     ann_file \u001b[38;5;241m=\u001b[39m os\u001b[38;5;241m.\u001b[39mpath\u001b[38;5;241m.\u001b[39mjoin(img_folder, \u001b[38;5;124m\"\u001b[39m\u001b[38;5;124mcoco_train.json\u001b[39m\u001b[38;5;124m\"\u001b[39m \u001b[38;5;28;01mif\u001b[39;00m train \u001b[38;5;28;01melse\u001b[39;00m \u001b[38;5;124m\"\u001b[39m\u001b[38;5;124mcoco_val.json\u001b[39m\u001b[38;5;124m\"\u001b[39m)\n\u001b[1;32m----> 4\u001b[0m     \u001b[38;5;28;43msuper\u001b[39;49m\u001b[43m(\u001b[49m\u001b[43mCocoDetection\u001b[49m\u001b[43m,\u001b[49m\u001b[43m \u001b[49m\u001b[38;5;28;43mself\u001b[39;49m\u001b[43m)\u001b[49m\u001b[38;5;241;43m.\u001b[39;49m\u001b[38;5;21;43m__init__\u001b[39;49m\u001b[43m(\u001b[49m\u001b[43mimg_folder\u001b[49m\u001b[43m,\u001b[49m\u001b[43m \u001b[49m\u001b[43mann_file\u001b[49m\u001b[43m)\u001b[49m\n\u001b[0;32m      5\u001b[0m     \u001b[38;5;28mself\u001b[39m\u001b[38;5;241m.\u001b[39mprocessor \u001b[38;5;241m=\u001b[39m processor\n",
      "File \u001b[1;32mc:\\Users\\Michael\\AppData\\Local\\Programs\\Python\\Python310\\lib\\site-packages\\torchvision\\datasets\\coco.py:36\u001b[0m, in \u001b[0;36mCocoDetection.__init__\u001b[1;34m(self, root, annFile, transform, target_transform, transforms)\u001b[0m\n\u001b[0;32m     33\u001b[0m \u001b[38;5;28msuper\u001b[39m()\u001b[38;5;241m.\u001b[39m\u001b[38;5;21m__init__\u001b[39m(root, transforms, transform, target_transform)\n\u001b[0;32m     34\u001b[0m \u001b[38;5;28;01mfrom\u001b[39;00m \u001b[38;5;21;01mpycocotools\u001b[39;00m\u001b[38;5;21;01m.\u001b[39;00m\u001b[38;5;21;01mcoco\u001b[39;00m \u001b[38;5;28;01mimport\u001b[39;00m COCO\n\u001b[1;32m---> 36\u001b[0m \u001b[38;5;28mself\u001b[39m\u001b[38;5;241m.\u001b[39mcoco \u001b[38;5;241m=\u001b[39m \u001b[43mCOCO\u001b[49m\u001b[43m(\u001b[49m\u001b[43mannFile\u001b[49m\u001b[43m)\u001b[49m\n\u001b[0;32m     37\u001b[0m \u001b[38;5;28mself\u001b[39m\u001b[38;5;241m.\u001b[39mids \u001b[38;5;241m=\u001b[39m \u001b[38;5;28mlist\u001b[39m(\u001b[38;5;28msorted\u001b[39m(\u001b[38;5;28mself\u001b[39m\u001b[38;5;241m.\u001b[39mcoco\u001b[38;5;241m.\u001b[39mimgs\u001b[38;5;241m.\u001b[39mkeys()))\n",
      "File \u001b[1;32mc:\\Users\\Michael\\AppData\\Local\\Programs\\Python\\Python310\\lib\\site-packages\\pycocotools\\coco.py:81\u001b[0m, in \u001b[0;36mCOCO.__init__\u001b[1;34m(self, annotation_file)\u001b[0m\n\u001b[0;32m     79\u001b[0m \u001b[38;5;28mprint\u001b[39m(\u001b[38;5;124m'\u001b[39m\u001b[38;5;124mloading annotations into memory...\u001b[39m\u001b[38;5;124m'\u001b[39m)\n\u001b[0;32m     80\u001b[0m tic \u001b[38;5;241m=\u001b[39m time\u001b[38;5;241m.\u001b[39mtime()\n\u001b[1;32m---> 81\u001b[0m \u001b[38;5;28;01mwith\u001b[39;00m \u001b[38;5;28;43mopen\u001b[39;49m\u001b[43m(\u001b[49m\u001b[43mannotation_file\u001b[49m\u001b[43m,\u001b[49m\u001b[43m \u001b[49m\u001b[38;5;124;43m'\u001b[39;49m\u001b[38;5;124;43mr\u001b[39;49m\u001b[38;5;124;43m'\u001b[39;49m\u001b[43m)\u001b[49m \u001b[38;5;28;01mas\u001b[39;00m f:\n\u001b[0;32m     82\u001b[0m     dataset \u001b[38;5;241m=\u001b[39m json\u001b[38;5;241m.\u001b[39mload(f)\n\u001b[0;32m     83\u001b[0m \u001b[38;5;28;01massert\u001b[39;00m \u001b[38;5;28mtype\u001b[39m(dataset)\u001b[38;5;241m==\u001b[39m\u001b[38;5;28mdict\u001b[39m, \u001b[38;5;124m'\u001b[39m\u001b[38;5;124mannotation file format \u001b[39m\u001b[38;5;132;01m{}\u001b[39;00m\u001b[38;5;124m not supported\u001b[39m\u001b[38;5;124m'\u001b[39m\u001b[38;5;241m.\u001b[39mformat(\u001b[38;5;28mtype\u001b[39m(dataset))\n",
      "\u001b[1;31mFileNotFoundError\u001b[0m: [Errno 2] No such file or directory: '../../../old/BAA/Annotierte_Bilder/2024-02-21-Schadenserkennung-Annotationen\\\\coco_train.json'"
     ]
    }
   ],
   "source": [
    "processor = DetrImageProcessor.from_pretrained(\"facebook/detr-resnet-50\")\n",
    "\n",
    "\n",
    "# Create Train and Validation Dataset\n",
    "# TODO im dqa das kleinere Datenset in train und val aufteilen, vielleicht auch ein testset extrahieren?\n",
    "train_dataset = CocoDetection(img_folder='../../../old/BAA/Annotierte_Bilder/2024-02-21-Schadenserkennung-Annotationen', processor=processor)\n",
    "val_dataset = CocoDetection(img_folder='../../../old/BAA/Annotierte_Bilder/2024-02-21-Schadenserkennung-Annotationen', processor=processor, train=False)"
   ]
  },
  {
   "cell_type": "code",
   "execution_count": 40,
   "metadata": {},
   "outputs": [
    {
     "data": {
      "text/plain": [
       "True"
      ]
     },
     "execution_count": 40,
     "metadata": {},
     "output_type": "execute_result"
    }
   ],
   "source": [
    "import os\n",
    "os.path.exists('../../../old/BAA/Annotierte_Bilder/2024-02-21-Schadenserkennung-Annotationen/')\n"
   ]
  }
 ],
 "metadata": {
  "kernelspec": {
   "display_name": "Python 3",
   "language": "python",
   "name": "python3"
  },
  "language_info": {
   "codemirror_mode": {
    "name": "ipython",
    "version": 3
   },
   "file_extension": ".py",
   "mimetype": "text/x-python",
   "name": "python",
   "nbconvert_exporter": "python",
   "pygments_lexer": "ipython3",
   "version": "3.10.6"
  }
 },
 "nbformat": 4,
 "nbformat_minor": 2
}
