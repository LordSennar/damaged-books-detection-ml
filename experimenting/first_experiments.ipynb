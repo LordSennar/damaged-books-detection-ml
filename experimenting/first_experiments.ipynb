{
 "cells": [
  {
   "cell_type": "markdown",
   "metadata": {},
   "source": [
    "## Imports\n",
    "inkl. Bildimport"
   ]
  },
  {
   "cell_type": "code",
   "execution_count": 3,
   "metadata": {},
   "outputs": [],
   "source": [
    "# pip install torch torchvision torchaudio --index-url https://download.pytorch.org/whl/cu121"
   ]
  },
  {
   "cell_type": "code",
   "execution_count": 4,
   "metadata": {},
   "outputs": [],
   "source": [
    "# pip install transformers"
   ]
  },
  {
   "cell_type": "code",
   "execution_count": 5,
   "metadata": {},
   "outputs": [],
   "source": [
    "# pip install timm # for DetrConvEncoder"
   ]
  },
  {
   "cell_type": "code",
   "execution_count": 16,
   "metadata": {},
   "outputs": [],
   "source": [
    "# pip install pytorch-lightning"
   ]
  },
  {
   "cell_type": "code",
   "execution_count": 6,
   "metadata": {},
   "outputs": [],
   "source": [
    "import pandas as pd\n",
    "import numpy as np\n",
    "import torch, torchvision, torchaudio\n",
    "\n",
    "from transformers import AutoImageProcessor, DetrForObjectDetection\n",
    "from PIL import Image, ImageDraw\n",
    "import sys\n",
    "import requests"
   ]
  },
  {
   "cell_type": "code",
   "execution_count": 7,
   "metadata": {},
   "outputs": [
    {
     "name": "stderr",
     "output_type": "stream",
     "text": [
      "Some weights of the model checkpoint at facebook/detr-resnet-50 were not used when initializing DetrForObjectDetection: ['model.backbone.conv_encoder.model.layer1.0.downsample.1.num_batches_tracked', 'model.backbone.conv_encoder.model.layer2.0.downsample.1.num_batches_tracked', 'model.backbone.conv_encoder.model.layer3.0.downsample.1.num_batches_tracked', 'model.backbone.conv_encoder.model.layer4.0.downsample.1.num_batches_tracked']\n",
      "- This IS expected if you are initializing DetrForObjectDetection from the checkpoint of a model trained on another task or with another architecture (e.g. initializing a BertForSequenceClassification model from a BertForPreTraining model).\n",
      "- This IS NOT expected if you are initializing DetrForObjectDetection from the checkpoint of a model that you expect to be exactly identical (initializing a BertForSequenceClassification model from a BertForSequenceClassification model).\n"
     ]
    }
   ],
   "source": [
    "model = DetrForObjectDetection.from_pretrained(\"facebook/detr-resnet-50\")"
   ]
  },
  {
   "cell_type": "code",
   "execution_count": 13,
   "metadata": {},
   "outputs": [
    {
     "name": "stderr",
     "output_type": "stream",
     "text": [
      "Some weights of the model checkpoint at facebook/detr-resnet-50 were not used when initializing DetrForObjectDetection: ['model.backbone.conv_encoder.model.layer1.0.downsample.1.num_batches_tracked', 'model.backbone.conv_encoder.model.layer2.0.downsample.1.num_batches_tracked', 'model.backbone.conv_encoder.model.layer3.0.downsample.1.num_batches_tracked', 'model.backbone.conv_encoder.model.layer4.0.downsample.1.num_batches_tracked']\n",
      "- This IS expected if you are initializing DetrForObjectDetection from the checkpoint of a model trained on another task or with another architecture (e.g. initializing a BertForSequenceClassification model from a BertForPreTraining model).\n",
      "- This IS NOT expected if you are initializing DetrForObjectDetection from the checkpoint of a model that you expect to be exactly identical (initializing a BertForSequenceClassification model from a BertForSequenceClassification model).\n"
     ]
    },
    {
     "name": "stdout",
     "output_type": "stream",
     "text": [
      "Detected book with confidence 0.819 at location [845.3, 386.9, 1102.25, 463.73]\n",
      "Detected book with confidence 0.831 at location [847.19, 298.4, 1093.29, 359.54]\n",
      "Detected book with confidence 0.85 at location [846.5, 815.68, 1097.37, 875.0]\n",
      "Detected book with confidence 0.855 at location [1092.68, 307.47, 1335.5, 385.39]\n",
      "Detected book with confidence 0.919 at location [573.83, 563.34, 850.96, 677.42]\n",
      "Detected book with confidence 0.83 at location [1092.95, 370.19, 1334.24, 444.72]\n",
      "Detected book with confidence 0.822 at location [846.94, 350.84, 1100.97, 429.94]\n",
      "Detected book with confidence 0.86 at location [846.28, 745.25, 1090.86, 811.76]\n",
      "Detected book with confidence 0.815 at location [595.95, 814.88, 832.39, 884.79]\n",
      "Detected book with confidence 0.871 at location [579.68, 466.76, 852.87, 545.79]\n",
      "Detected book with confidence 0.82 at location [845.75, 531.48, 1092.19, 613.67]\n",
      "Detected book with confidence 0.881 at location [842.38, 678.51, 1094.85, 763.49]\n",
      "[[845.3, 386.9, 1102.25, 463.73], [847.19, 298.4, 1093.29, 359.54], [846.5, 815.68, 1097.37, 875.0], [1092.68, 307.47, 1335.5, 385.39], [573.83, 563.34, 850.96, 677.42], [1092.95, 370.19, 1334.24, 444.72], [846.94, 350.84, 1100.97, 429.94], [846.28, 745.25, 1090.86, 811.76], [595.95, 814.88, 832.39, 884.79], [579.68, 466.76, 852.87, 545.79], [845.75, 531.48, 1092.19, 613.67], [842.38, 678.51, 1094.85, 763.49]]\n"
     ]
    }
   ],
   "source": [
    "#url = \"http://images.cocodataset.org/val2017/000000039769.jpg\"\n",
    "#image = Image.open(requests.get(url, stream=True).raw)\n",
    "\n",
    "local = \"C:/Users/Michael/Desktop/old/BAA/Annotierte_Bilder/2024-02-21-Schadenserkennung-Annotationen/images/LB00000510.png\"\n",
    "image = Image.open(local).convert(\"RGB\")\n",
    "\n",
    "image_processor = AutoImageProcessor.from_pretrained(\"facebook/detr-resnet-50\")\n",
    "model = DetrForObjectDetection.from_pretrained(\"facebook/detr-resnet-50\")\n",
    "\n",
    "inputs = image_processor(images=image, return_tensors=\"pt\")\n",
    "outputs = model(**inputs)\n",
    "\n",
    "# convert outputs (bounding boxes and class logits) to Pascal VOC format (xmin, ymin, xmax, ymax)\n",
    "target_sizes = torch.tensor([image.size[::-1]])\n",
    "results = image_processor.post_process_object_detection(outputs, threshold=0.8, target_sizes=target_sizes)[\n",
    "    0\n",
    "]\n",
    "\n",
    "# print(results)\n",
    "boxes = []\n",
    "for score, label, box in zip(results[\"scores\"], results[\"labels\"], results[\"boxes\"]):\n",
    "    box = [round(i, 2) for i in box.tolist()]\n",
    "    boxes.append(box)\n",
    "    print(\n",
    "        f\"Detected {model.config.id2label[label.item()]} with confidence \"\n",
    "        f\"{round(score.item(), 3)} at location {box}\"\n",
    "    )\n",
    "print(boxes)"
   ]
  },
  {
   "cell_type": "code",
   "execution_count": 14,
   "metadata": {},
   "outputs": [],
   "source": [
    "polys = [[854.47, 300.44, 920.71, 613.65], [512.43, 296.58, 606.01, 614.75], [958.31, 319.3, 1027.05, 621.06], [893.3, 300.9, 982.65, 616.84]]\n",
    "\n",
    "with Image.open(\"LB00000510.png\") as im:\n",
    "\n",
    "    draw = ImageDraw.Draw(im)\n",
    "    for x in boxes:\n",
    "        draw.rectangle(x, -1, 128, 10)\n",
    "    im.show()\n",
    "    #im.save(sys.stdout, \"PNG\")"
   ]
  },
  {
   "cell_type": "code",
   "execution_count": 10,
   "metadata": {},
   "outputs": [
    {
     "name": "stdout",
     "output_type": "stream",
     "text": [
      "[342.93, 599.74, 587.95, 684.94]\n",
      "[845.3, 386.9, 1102.25, 463.73]\n",
      "[345.82, 767.45, 824.65, 866.63]\n",
      "[847.19, 298.4, 1093.29, 359.54]\n",
      "[573.6, 323.38, 1052.2, 412.98]\n",
      "[842.83, 689.06, 1097.72, 762.44]\n",
      "[842.54, 597.68, 1098.05, 672.84]\n",
      "[355.41, 665.94, 832.77, 749.95]\n",
      "[577.64, 325.73, 860.81, 396.52]\n",
      "[586.94, 254.02, 842.05, 299.75]\n",
      "[850.41, 788.78, 1293.64, 864.87]\n",
      "[340.3, 723.95, 597.5, 815.29]\n",
      "[1104.21, 787.43, 1303.55, 853.06]\n",
      "[846.5, 815.68, 1097.37, 875.0]\n",
      "[307.15, 261.53, 589.68, 458.37]\n",
      "[318.13, 297.54, 583.85, 368.54]\n",
      "[1092.68, 307.47, 1335.5, 385.39]\n",
      "[1098.34, 523.22, 1336.5, 615.97]\n",
      "[862.04, 815.51, 1303.86, 899.41]\n",
      "[1104.18, 658.82, 1326.38, 775.96]\n",
      "[866.13, 443.84, 1324.31, 543.39]\n",
      "[843.1, 698.18, 1093.32, 768.25]\n",
      "[573.83, 563.34, 850.96, 677.42]\n",
      "[849.22, 327.72, 1096.77, 387.49]\n",
      "[325.21, 838.62, 602.7, 930.03]\n",
      "[575.85, 456.89, 854.36, 518.25]\n",
      "[1102.31, 585.61, 1336.05, 702.03]\n",
      "[583.35, 689.17, 833.19, 760.67]\n",
      "[1096.43, 373.22, 1342.05, 442.42]\n",
      "[1092.95, 370.19, 1334.24, 444.72]\n",
      "[846.94, 350.84, 1100.97, 429.94]\n",
      "[591.5, 778.8, 826.46, 850.37]\n",
      "[1091.09, 419.66, 1333.7, 500.4]\n",
      "[846.28, 745.25, 1090.86, 811.76]\n",
      "[581.22, 492.38, 852.33, 565.74]\n",
      "[581.27, 306.63, 856.52, 374.48]\n",
      "[1092.95, 278.79, 1329.26, 357.37]\n",
      "[595.95, 814.88, 832.39, 884.79]\n",
      "[579.68, 466.76, 852.87, 545.79]\n",
      "[329.92, 660.13, 602.65, 738.74]\n",
      "[345.56, 695.02, 829.23, 794.32]\n",
      "[340.55, 561.43, 582.21, 642.24]\n",
      "[845.75, 531.48, 1092.19, 613.67]\n",
      "[849.86, 490.69, 1099.16, 569.2]\n",
      "[576.05, 337.66, 859.33, 415.44]\n",
      "[315.46, 374.19, 587.77, 470.77]\n",
      "[1102.4, 240.87, 1325.55, 282.7]\n",
      "[587.28, 743.68, 825.72, 809.52]\n",
      "[584.09, 435.44, 856.33, 495.56]\n",
      "[218.43, 188.41, 1438.35, 1002.64]\n",
      "[846.13, 843.86, 1119.84, 902.18]\n",
      "[1096.28, 505.64, 1337.88, 637.07]\n",
      "[329.31, 504.77, 586.67, 598.24]\n",
      "[345.61, 784.55, 604.0, 861.71]\n",
      "[579.55, 412.68, 854.31, 465.58]\n",
      "[323.12, 373.73, 581.71, 457.56]\n",
      "[1103.53, 770.51, 1318.35, 859.06]\n",
      "[571.78, 561.44, 848.47, 665.28]\n",
      "[843.81, 262.03, 1086.93, 306.66]\n",
      "[1094.03, 845.13, 1321.43, 923.91]\n",
      "[842.38, 678.51, 1094.85, 763.49]\n",
      "[844.74, 577.1, 1098.11, 666.49]\n",
      "[1091.0, 416.29, 1337.94, 508.98]\n",
      "[850.42, 763.13, 1296.13, 846.11]\n",
      "[858.31, 440.94, 1100.95, 519.08]\n",
      "[850.66, 613.22, 1097.94, 682.56]\n",
      "[848.58, 787.51, 1095.29, 850.02]\n",
      "[319.33, 431.9, 589.24, 511.7]\n",
      "[857.67, 254.26, 1302.96, 329.94]\n",
      "[846.39, 373.43, 1096.22, 438.45]\n"
     ]
    }
   ],
   "source": [
    "for x in boxes:\n",
    "    print(x)"
   ]
  },
  {
   "cell_type": "markdown",
   "metadata": {},
   "source": [
    "# Training Loop\n",
    "Inspired by: https://github.com/NielsRogge/Transformers-Tutorials/tree/master/DETR"
   ]
  },
  {
   "cell_type": "code",
   "execution_count": 3,
   "metadata": {},
   "outputs": [],
   "source": [
    "from transformers import DetrConfig, DetrImageProcessor, DetrForObjectDetection\n",
    "import torchvision\n",
    "import os"
   ]
  },
  {
   "cell_type": "code",
   "execution_count": 2,
   "metadata": {},
   "outputs": [],
   "source": [
    "class CocoDetection(torchvision.datasets.CocoDetection):\n",
    "    def __init__(self, img_folder, processor, train=True):\n",
    "        ann_file = os.path.join(img_folder, \"custom_train.json\" if train else \"custom_val.json\")\n",
    "        super(CocoDetection, self).__init__(img_folder, ann_file)\n",
    "        self.processor = processor\n",
    "\n",
    "    def __getitem__(self, idx):\n",
    "        # read in PIL image and target in COCO format\n",
    "        # feel free to add data augmentation here before passing them to the next step\n",
    "        img, target = super(CocoDetection, self).__getitem__(idx)\n",
    "\n",
    "        # preprocess image and target (converting target to DETR format, resizing + normalization of both image and target)\n",
    "        image_id = self.ids[idx]\n",
    "        target = {'image_id': image_id, 'annotations': target}\n",
    "        encoding = self.processor(images=img, annotations=target, return_tensors=\"pt\")\n",
    "        pixel_values = encoding[\"pixel_values\"].squeeze() # remove batch dimension\n",
    "        target = encoding[\"labels\"][0] # remove batch dimension\n",
    "\n",
    "        return pixel_values, target"
   ]
  },
  {
   "cell_type": "code",
   "execution_count": null,
   "metadata": {},
   "outputs": [],
   "source": [
    "processor = DetrImageProcessor.from_pretrained(\"facebook/detr-resnet-50\")\n",
    "\n",
    "# Create Train and Validation Dataset\n",
    "# TODO im dqa das kleinere Datenset in train und val aufteilen, vielleicht auch ein testset extrahieren?\n",
    "# train_dataset = CocoDetection(img_folder='/content/balloon/train', processor=processor)\n",
    "# val_dataset = CocoDetection(img_folder='/content/balloon/val', processor=processor, train=False)"
   ]
  }
 ],
 "metadata": {
  "kernelspec": {
   "display_name": "Python 3",
   "language": "python",
   "name": "python3"
  },
  "language_info": {
   "codemirror_mode": {
    "name": "ipython",
    "version": 3
   },
   "file_extension": ".py",
   "mimetype": "text/x-python",
   "name": "python",
   "nbconvert_exporter": "python",
   "pygments_lexer": "ipython3",
   "version": "3.10.6"
  }
 },
 "nbformat": 4,
 "nbformat_minor": 2
}
